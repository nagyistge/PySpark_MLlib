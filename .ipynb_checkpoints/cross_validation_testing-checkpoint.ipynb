{
 "cells": [
  {
   "cell_type": "markdown",
   "metadata": {},
   "source": [
    "Cross Validation Testing"
   ]
  },
  {
   "cell_type": "code",
   "execution_count": 2,
   "metadata": {
    "collapsed": true
   },
   "outputs": [],
   "source": [
    "import pyspark\n",
    "import numpy as np\n",
    "from pyspark import SQLContext\n",
    "from pyspark import SparkContext\n",
    "from pyspark.ml import Pipeline \n",
    "from pyspark.ml.classification import LogisticRegression\n",
    "from pyspark.ml.evaluation import BinaryClassificationEvaluator\n",
    "from pyspark.ml.tuning import CrossValidator, ParamGridBuilder"
   ]
  },
  {
   "cell_type": "code",
   "execution_count": 3,
   "metadata": {
    "collapsed": true
   },
   "outputs": [],
   "source": [
    "# import dataframe from s3\n",
    "filepath = 'somefilepathhere'\n",
    "df = sqlContext.read.format(\"com.databricks.spark.csv\").option(\"header\", \"true\").option(\"inferschema\", \"true\").option(\"mode\", \"DROPMALFORMED\").load(filepath)\n",
    "df = df.withColumnRenamed(\"biologic\", \"label\")\n",
    "df.cache()\n",
    "df.printSchema()\n"
   ]
  },
  {
   "cell_type": "code",
   "execution_count": 4,
   "metadata": {
    "collapsed": true
   },
   "outputs": [],
   "source": [
    "# split df into training and test dataset\n",
    "df_train, df_test = df.randomSplit([0.9,0.1], seed = 123)"
   ]
  },
  {
   "cell_type": "code",
   "execution_count": 5,
   "metadata": {
    "collapsed": true
   },
   "outputs": [],
   "source": [
    "# set up binomial logistic regression model with elastic net regularization.\n",
    "# regParam is lambda (>0) and elasticNetParam is alpha (0 <= alpha <= 1)\n",
    "# alpha and lambda indicates L1 and L2 regularization\n",
    "# when alpha = 1 --> lasso; when alpha = 0 --> ridge\n",
    "# regularization prevents overfitting \n",
    "from pyspark.ml.classification import LogisticRegression\n",
    "lr = LogisticRegression(labelCol=\"label\", featuresCol=\"features\")"
   ]
  },
  {
   "cell_type": "code",
   "execution_count": 6,
   "metadata": {
    "collapsed": true
   },
   "outputs": [],
   "source": [
    "# define features and label\n",
    "from pyspark.ml.feature import VectorAssembler\n",
    "assembler = (VectorAssembler(inputCols=[x for x in df_train.columns if x not in ['biologic']],outputCol='features'))"
   ]
  },
  {
   "cell_type": "code",
   "execution_count": 7,
   "metadata": {
    "collapsed": true
   },
   "outputs": [],
   "source": [
    "# use pipeline to configure ML\n",
    "pipeline = Pipeline(stages = [assembler, lr])\n",
    "paramGrid = ParamGridBuilder().addGrid(lr.maxIter, [10,15]).addGrid(lr.regParam, [0.0, 0.1]).addGrid(lr.elasticNetParam, [0.9, 0.8]).build()"
   ]
  },
  {
   "cell_type": "code",
   "execution_count": 8,
   "metadata": {
    "collapsed": true
   },
   "outputs": [],
   "source": [
    "# use pipeline as the extimator in cross validation\n",
    "# add function to choose different evaluator\n",
    "crossval = CrossValidator(estimator = pipeline, estimatorParamMaps = paramGrid, evaluator = BinaryClassificationEvaluator(), numFolds = 3)\n",
    "cvModel = crossval.fit(df_train)"
   ]
  },
  {
   "cell_type": "code",
   "execution_count": 9,
   "metadata": {
    "collapsed": true
   },
   "outputs": [],
   "source": [
    "import pandas as pd\n",
    "# find the best model\n",
    "best = cvModel.bestModel.stages[1]\n",
    "bestSum = best.summary\n",
    "roc = bestSum.roc.toPandas()\n",
    "roc.head()"
   ]
  },
  {
   "cell_type": "code",
   "execution_count": 10,
   "metadata": {
    "collapsed": true
   },
   "outputs": [],
   "source": [
    "# use plotly to generate graph for ROC curve\n",
    "import plotly\n",
    "from plotly.offline import plot\n",
    "import plotly.graph_objs as go\n",
    "lw = 2\n",
    "\n",
    "trace1 = go.Scatter(x=roc['FPR'], y=roc['TPR'], mode='lines', line=dict(color='darkorange', width=lw),name='ROC curve (area = %0.2f)' %bestSum.areaUnderROC)\n",
    "\n",
    "trace2 = go.Scatter(x=[0, 1], y=[0, 1], mode='lines', line=dict(color='navy', width=lw, dash='dash'),showlegend=False)\n",
    "\n",
    "layout = go.Layout(title='Receiver operating characteristic example',xaxis=dict(title='False Positive Rate'),yaxis=dict(title='True Positive Rate'))\n",
    "\n",
    "fig = plot(go.Figure(data=[trace1, trace2], layout=layout), output_type='div')\n"
   ]
  },
  {
   "cell_type": "code",
   "execution_count": 11,
   "metadata": {
    "collapsed": true
   },
   "outputs": [],
   "source": [
    "# display ROC curve\n",
    "displayHTML(fig)"
   ]
  },
  {
   "cell_type": "code",
   "execution_count": 12,
   "metadata": {
    "collapsed": true
   },
   "outputs": [],
   "source": []
  },
  {
   "cell_type": "code",
   "execution_count": 13,
   "metadata": {
    "collapsed": true
   },
   "outputs": [],
   "source": []
  },
  {
   "cell_type": "code",
   "execution_count": 14,
   "metadata": {
    "collapsed": true
   },
   "outputs": [],
   "source": []
  }
 ],
 "metadata": {
  "kernelspec": {
   "display_name": "Python 2",
   "language": "python",
   "name": "python2"
  },
  "language_info": {
   "codemirror_mode": {
    "name": "ipython",
    "version": 2
   },
   "file_extension": ".py",
   "mimetype": "text/x-python",
   "name": "python",
   "nbconvert_exporter": "python",
   "pygments_lexer": "ipython2",
   "version": "2.7.13"
  },
  "name": "cross_validation_testing",
  "notebookId": 594574
 },
 "nbformat": 4,
 "nbformat_minor": 1
}
