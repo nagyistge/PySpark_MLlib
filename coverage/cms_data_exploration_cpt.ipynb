{
 "cells": [
  {
   "cell_type": "markdown",
   "metadata": {},
   "source": [
    "# Coverage Estimation"
   ]
  },
  {
   "cell_type": "markdown",
   "metadata": {},
   "source": [
    "## CMS Data Extraction and Manipulation "
   ]
  },
  {
   "cell_type": "code",
   "execution_count": 1,
   "metadata": {
    "collapsed": true
   },
   "outputs": [],
   "source": [
    "import pandas as pd\n",
    "import numpy as np\n",
    "import timeit\n",
    "import seaborn as sns\n",
    "import matplotlib.pyplot as plt"
   ]
  },
  {
   "cell_type": "markdown",
   "metadata": {},
   "source": [
    "### Load CPT level data (Year 2012 - 2015)"
   ]
  },
  {
   "cell_type": "code",
   "execution_count": 2,
   "metadata": {
    "scrolled": false
   },
   "outputs": [
    {
     "name": "stderr",
     "output_type": "stream",
     "text": [
      "/Users/michaelli/anaconda2/lib/python2.7/site-packages/IPython/core/interactiveshell.py:2717: DtypeWarning: Columns (10) have mixed types. Specify dtype option on import or set low_memory=False.\n",
      "  interactivity=interactivity, compiler=compiler, result=result)\n"
     ]
    },
    {
     "name": "stdout",
     "output_type": "stream",
     "text": [
      "98.0552530289\n"
     ]
    }
   ],
   "source": [
    "# CPT level data, year 2015\n",
    "start = timeit.default_timer()\n",
    "\n",
    "df_15 = pd.read_csv('Medicare_Provider_Util_Payment_PUF_CY2015.txt', sep = '\\t', header = 0)\n",
    "df_15['year'] = '2015'\n",
    "df_15.drop(df_15.index == 0, inplace = True)\n",
    "\n",
    "stop = timeit.default_timer()\n",
    "print (stop - start)"
   ]
  },
  {
   "cell_type": "code",
   "execution_count": 3,
   "metadata": {},
   "outputs": [
    {
     "data": {
      "text/plain": [
       "array(['npi', 'nppes_provider_last_org_name', 'nppes_provider_first_name',\n",
       "       'nppes_provider_mi', 'nppes_credentials', 'nppes_provider_gender',\n",
       "       'nppes_entity_code', 'nppes_provider_street1',\n",
       "       'nppes_provider_street2', 'nppes_provider_city',\n",
       "       'nppes_provider_zip', 'nppes_provider_state',\n",
       "       'nppes_provider_country', 'provider_type',\n",
       "       'medicare_participation_indicator', 'place_of_service',\n",
       "       'hcpcs_code', 'hcpcs_description', 'hcpcs_drug_indicator',\n",
       "       'line_srvc_cnt', 'bene_unique_cnt', 'bene_day_srvc_cnt',\n",
       "       'average_Medicare_allowed_amt', 'average_submitted_chrg_amt',\n",
       "       'average_Medicare_payment_amt', 'average_Medicare_standard_amt',\n",
       "       'year'], dtype=object)"
      ]
     },
     "execution_count": 3,
     "metadata": {},
     "output_type": "execute_result"
    }
   ],
   "source": [
    "df_15.columns.values"
   ]
  },
  {
   "cell_type": "code",
   "execution_count": 4,
   "metadata": {},
   "outputs": [
    {
     "name": "stdout",
     "output_type": "stream",
     "text": [
      "91.2562971115\n"
     ]
    }
   ],
   "source": [
    "# CPT level data, year 2014\n",
    "start = timeit.default_timer()\n",
    "\n",
    "df_14 = pd.read_csv('Medicare_Provider_Util_Payment_PUF_CY2014.txt', sep = '\\t', header = 0)\n",
    "df_14['year'] = '2014'\n",
    "df_14.drop(df_14.index == 0, inplace = True)\n",
    "\n",
    "stop = timeit.default_timer()\n",
    "print (stop - start)"
   ]
  },
  {
   "cell_type": "code",
   "execution_count": 5,
   "metadata": {},
   "outputs": [
    {
     "data": {
      "text/plain": [
       "array(['npi', 'nppes_provider_last_org_name', 'nppes_provider_first_name',\n",
       "       'nppes_provider_mi', 'nppes_credentials', 'nppes_provider_gender',\n",
       "       'nppes_entity_code', 'nppes_provider_street1',\n",
       "       'nppes_provider_street2', 'nppes_provider_city',\n",
       "       'nppes_provider_zip', 'nppes_provider_state',\n",
       "       'nppes_provider_country', 'provider_type',\n",
       "       'medicare_participation_indicator', 'place_of_service',\n",
       "       'hcpcs_code', 'hcpcs_description', 'hcpcs_drug_indicator',\n",
       "       'line_srvc_cnt', 'bene_unique_cnt', 'bene_day_srvc_cnt',\n",
       "       'average_Medicare_allowed_amt', 'average_submitted_chrg_amt',\n",
       "       'average_Medicare_payment_amt', 'average_Medicare_standard_amt',\n",
       "       'year'], dtype=object)"
      ]
     },
     "execution_count": 5,
     "metadata": {},
     "output_type": "execute_result"
    }
   ],
   "source": [
    "df_14.columns.values"
   ]
  },
  {
   "cell_type": "code",
   "execution_count": 6,
   "metadata": {},
   "outputs": [
    {
     "name": "stdout",
     "output_type": "stream",
     "text": [
      "94.909514904\n"
     ]
    }
   ],
   "source": [
    "# CPT level data, year 2013\n",
    "start = timeit.default_timer()\n",
    "\n",
    "df_13 = pd.read_csv('Medicare_Provider_Util_Payment_PUF_CY2013.txt', sep = '\\t', header = 0)\n",
    "df_13['year'] = '2013'\n",
    "df_13.drop(df_13.index == 0, inplace = True)\n",
    "\n",
    "stop = timeit.default_timer()\n",
    "print (stop - start)"
   ]
  },
  {
   "cell_type": "code",
   "execution_count": 7,
   "metadata": {},
   "outputs": [
    {
     "data": {
      "text/plain": [
       "array(['NPI', 'NPPES_PROVIDER_LAST_ORG_NAME', 'NPPES_PROVIDER_FIRST_NAME',\n",
       "       'NPPES_PROVIDER_MI', 'NPPES_CREDENTIALS', 'NPPES_PROVIDER_GENDER',\n",
       "       'NPPES_ENTITY_CODE', 'NPPES_PROVIDER_STREET1',\n",
       "       'NPPES_PROVIDER_STREET2', 'NPPES_PROVIDER_CITY',\n",
       "       'NPPES_PROVIDER_ZIP', 'NPPES_PROVIDER_STATE',\n",
       "       'NPPES_PROVIDER_COUNTRY', 'PROVIDER_TYPE',\n",
       "       'MEDICARE_PARTICIPATION_INDICATOR', 'PLACE_OF_SERVICE',\n",
       "       'HCPCS_CODE', 'HCPCS_DESCRIPTION', 'HCPCS_DRUG_INDICATOR',\n",
       "       'LINE_SRVC_CNT', 'BENE_UNIQUE_CNT', 'BENE_DAY_SRVC_CNT',\n",
       "       'AVERAGE_MEDICARE_ALLOWED_AMT', 'STDEV_MEDICARE_ALLOWED_AMT',\n",
       "       'AVERAGE_SUBMITTED_CHRG_AMT', 'STDEV_SUBMITTED_CHRG_AMT',\n",
       "       'AVERAGE_MEDICARE_PAYMENT_AMT', 'STDEV_MEDICARE_PAYMENT_AMT', 'year'], dtype=object)"
      ]
     },
     "execution_count": 7,
     "metadata": {},
     "output_type": "execute_result"
    }
   ],
   "source": [
    "df_13.columns.values"
   ]
  },
  {
   "cell_type": "code",
   "execution_count": 8,
   "metadata": {},
   "outputs": [
    {
     "name": "stdout",
     "output_type": "stream",
     "text": [
      "87.6871900558\n"
     ]
    }
   ],
   "source": [
    "# CPT level, year 2012\n",
    "start = timeit.default_timer()\n",
    "\n",
    "df_12 = pd.read_csv('Medicare_Provider_Util_Payment_PUF_CY2012.txt', sep = '\\t', header = 0)\n",
    "df_12['year'] = '2012'\n",
    "df_12.drop(df_12.index == 0, inplace = True)\n",
    "\n",
    "stop = timeit.default_timer()\n",
    "print (stop - start)"
   ]
  },
  {
   "cell_type": "code",
   "execution_count": 9,
   "metadata": {},
   "outputs": [
    {
     "data": {
      "text/plain": [
       "array(['NPI', 'NPPES_PROVIDER_LAST_ORG_NAME', 'NPPES_PROVIDER_FIRST_NAME',\n",
       "       'NPPES_PROVIDER_MI', 'NPPES_CREDENTIALS', 'NPPES_PROVIDER_GENDER',\n",
       "       'NPPES_ENTITY_CODE', 'NPPES_PROVIDER_STREET1',\n",
       "       'NPPES_PROVIDER_STREET2', 'NPPES_PROVIDER_CITY',\n",
       "       'NPPES_PROVIDER_ZIP', 'NPPES_PROVIDER_STATE',\n",
       "       'NPPES_PROVIDER_COUNTRY', 'PROVIDER_TYPE',\n",
       "       'MEDICARE_PARTICIPATION_INDICATOR', 'PLACE_OF_SERVICE',\n",
       "       'HCPCS_CODE', 'HCPCS_DESCRIPTION', 'HCPCS_DRUG_INDICATOR',\n",
       "       'LINE_SRVC_CNT', 'BENE_UNIQUE_CNT', 'BENE_DAY_SRVC_CNT',\n",
       "       'AVERAGE_MEDICARE_ALLOWED_AMT', 'STDEV_MEDICARE_ALLOWED_AMT',\n",
       "       'AVERAGE_SUBMITTED_CHRG_AMT', 'STDEV_SUBMITTED_CHRG_AMT',\n",
       "       'AVERAGE_MEDICARE_PAYMENT_AMT', 'STDEV_MEDICARE_PAYMENT_AMT', 'year'], dtype=object)"
      ]
     },
     "execution_count": 9,
     "metadata": {},
     "output_type": "execute_result"
    }
   ],
   "source": [
    "df_12.columns.values"
   ]
  },
  {
   "cell_type": "markdown",
   "metadata": {},
   "source": [
    "### Load and explore NPI level aggregated data (year 2012 - 2015)"
   ]
  },
  {
   "cell_type": "code",
   "execution_count": 15,
   "metadata": {},
   "outputs": [
    {
     "name": "stdout",
     "output_type": "stream",
     "text": [
      "685.731369972\n"
     ]
    }
   ],
   "source": [
    "# NPI level aggregated data, year 2012\n",
    "start = timeit.default_timer()\n",
    "\n",
    "df_12_npi = pd.read_excel('Medicare-Physician-and-Other-Supplier-NPI-Aggregate-CY2012.xlsx', sheetname= 'DATA', header= 0)\n",
    "df_12_npi['year'] = '2012'\n",
    "\n",
    "stop = timeit.default_timer()\n",
    "print (stop - start)"
   ]
  },
  {
   "cell_type": "code",
   "execution_count": 16,
   "metadata": {},
   "outputs": [
    {
     "data": {
      "text/plain": [
       "array([u'NPI', u'NPPES Provider Last Name / Organization Name',\n",
       "       u'NPPES Provider First Name', u'NPPES Provider Middle Initial',\n",
       "       u'NPPES Credentials', u'NPPES Provider Gender',\n",
       "       u'NPPES Entity Code', u'NPPES Provider Street Address 1',\n",
       "       u'NPPES Provider Street Address 2', u'NPPES Provider City',\n",
       "       u'NPPES Provider Zip Code', u'NPPES Provider State',\n",
       "       u'NPPES Provider Country ', u'Provider Type',\n",
       "       u'Medicare Participation Indicator', u'Number of HCPCS',\n",
       "       u'Number of Services', u'Number of Unique Beneficiaries',\n",
       "       u'Total Submitted Charges', u'Total Medicare Allowed Amount',\n",
       "       u'Total Medicare Payment Amount', u'Drug Suppress Indicator',\n",
       "       u'Number of HCPCS Associated With Drug Services',\n",
       "       u'Number of Drug Services',\n",
       "       u'Number of Unique Beneficiaries With Drug Services',\n",
       "       u'Total Drug Submitted Charges',\n",
       "       u'Total Drug Medicare Allowed Amount',\n",
       "       u'Total Drug Medicare Payment Amount',\n",
       "       u'Medical Suppress Indicator',\n",
       "       u'Number of HCPCS Associated With Medical Services',\n",
       "       u'Number of Medical Services',\n",
       "       u'Number of Unique Beneficiaries With Medical Services',\n",
       "       u'Total Medical Submitted Charges',\n",
       "       u'Total Medical Medicare Allowed Amount',\n",
       "       u'Total Medical Medicare Payment Amount',\n",
       "       u'Average Age of Beneficiaries',\n",
       "       u'Number of Beneficiaries Age Less 65 ',\n",
       "       u'Number of Beneficiaries Age 65 to 74',\n",
       "       u'Number of Beneficiaries Age 75 to 84',\n",
       "       u'Number of Beneficiaries Age Greater 84',\n",
       "       u'Number of Female Beneficiaries', u'Number of Male Beneficiaries',\n",
       "       u'Number of Non-Hispanic White Beneficiaries',\n",
       "       u'Number of Black or African American Beneficiaries',\n",
       "       u'Number of Asian Pacific Islander Beneficiaries',\n",
       "       u'Number of Hispanic Beneficiaries',\n",
       "       u'Number of American Indian/Alaska Native Beneficiaries',\n",
       "       u'Number of Beneficiaries With Race Not Elsewhere Classified',\n",
       "       u'Number of Beneficiaries With Medicare Only Entitlement',\n",
       "       u'Number of Beneficiaries With Medicare & Medicaid Entitlement',\n",
       "       u'Percent (%) of Beneficiaries Identified With Alzheimer\\u2019s Disease or Dementia',\n",
       "       u'Percent (%) of Beneficiaries Identified With Asthma',\n",
       "       u'Percent (%) of Beneficiaries Identified With Atrial Fibrillation',\n",
       "       u'Percent (%) of Beneficiaries Identified With Cancer',\n",
       "       u'Percent (%) of Beneficiaries Identified With Chronic Kidney Disease',\n",
       "       u'Percent (%) of Beneficiaries Identified With Chronic Obstructive Pulmonary Disease',\n",
       "       u'Percent (%) of Beneficiaries Identified With Depression',\n",
       "       u'Percent (%) of Beneficiaries Identified With Diabetes',\n",
       "       u'Percent (%) of Beneficiaries Identified With Heart Failure',\n",
       "       u'Percent (%) of Beneficiaries Identified With Hyperlipidemia',\n",
       "       u'Percent (%) of Beneficiaries Identified With Hypertension',\n",
       "       u'Percent (%) of Beneficiaries Identified With Ischemic Heart Disease',\n",
       "       u'Percent (%) of Beneficiaries Identified With Osteoporosis',\n",
       "       u'Percent (%) of Beneficiaries Identified With Rheumatoid Arthritis / Osteoarthritis',\n",
       "       u'Percent (%) of Beneficiaries Identified With Schizophrenia / Other Psychotic Disorders',\n",
       "       u'Percent (%) of Beneficiaries Identified With Stroke',\n",
       "       u'Average HCC Risk Score of Beneficiaries', 'year'], dtype=object)"
      ]
     },
     "execution_count": 16,
     "metadata": {},
     "output_type": "execute_result"
    }
   ],
   "source": [
    "df_12_npi.columns.values"
   ]
  },
  {
   "cell_type": "code",
   "execution_count": 20,
   "metadata": {
    "collapsed": true
   },
   "outputs": [],
   "source": [
    "# fill null value with 0\n",
    "# and create a dataframe that only keeps NPI and age group number\n",
    "df_12_npi['Number of Beneficiaries Age Less 65 '].fillna(0, inplace = True)\n",
    "df_12_npi['Number of Beneficiaries Age 65 to 74'].fillna(0, inplace = True)\n",
    "df_12_npi['Number of Beneficiaries Age 75 to 84'].fillna(0, inplace = True)\n",
    "df_12_npi['Number of Beneficiaries Age Greater 84'].fillna(0, inplace = True)\n",
    "df_12_npi_age = df_12_npi[['NPI', 'Number of Beneficiaries Age Less 65 ', 'Number of Beneficiaries Age 65 to 74', 'Number of Beneficiaries Age 75 to 84', 'Number of Beneficiaries Age Greater 84', 'year']]"
   ]
  },
  {
   "cell_type": "code",
   "execution_count": 18,
   "metadata": {},
   "outputs": [
    {
     "name": "stdout",
     "output_type": "stream",
     "text": [
      "680.743115902\n"
     ]
    }
   ],
   "source": [
    "# NPI level aggregated data, year 2013\n",
    "start = timeit.default_timer()\n",
    "\n",
    "df_13_npi = pd.read_excel('Medicare-Physician-and-Other-Supplier-NPI-Aggregate-CY2013.xlsx', sheetname= 'DATA', header= 0)\n",
    "df_13_npi['year'] = '2013'\n",
    "\n",
    "stop = timeit.default_timer()\n",
    "print (stop - start)"
   ]
  },
  {
   "cell_type": "code",
   "execution_count": 19,
   "metadata": {},
   "outputs": [
    {
     "data": {
      "text/plain": [
       "array([u'NPI', u'NPPES Provider Last Name / Organization Name',\n",
       "       u'NPPES Provider First Name', u'NPPES Provider Middle Initial',\n",
       "       u'NPPES Credentials', u'NPPES Provider Gender',\n",
       "       u'NPPES Entity Code', u'NPPES Provider Street Address 1',\n",
       "       u'NPPES Provider Street Address 2', u'NPPES Provider City',\n",
       "       u'NPPES Provider Zip Code', u'NPPES Provider State',\n",
       "       u'NPPES Provider Country ', u'Provider Type',\n",
       "       u'Medicare Participation Indicator', u'Number of HCPCS',\n",
       "       u'Number of Services', u'Number of Unique Beneficiaries',\n",
       "       u'Total Submitted Charges', u'Total Medicare Allowed Amount',\n",
       "       u'Total Medicare Payment Amount', u'Drug Suppress Indicator',\n",
       "       u'Number of HCPCS Associated With Drug Services',\n",
       "       u'Number of Drug Services',\n",
       "       u'Number of Unique Beneficiaries With Drug Services',\n",
       "       u'Total Drug Submitted Charges',\n",
       "       u'Total Drug Medicare Allowed Amount',\n",
       "       u'Total Drug Medicare Payment Amount',\n",
       "       u'Medical Suppress Indicator',\n",
       "       u'Number of HCPCS Associated With Medical Services',\n",
       "       u'Number of Medical Services',\n",
       "       u'Number of Unique Beneficiaries With Medical Services',\n",
       "       u'Total Medical Submitted Charges',\n",
       "       u'Total Medical Medicare Allowed Amount',\n",
       "       u'Total Medical Medicare Payment Amount',\n",
       "       u'Average Age of Beneficiaries',\n",
       "       u'Number of Beneficiaries Age Less 65 ',\n",
       "       u'Number of Beneficiaries Age 65 to 74',\n",
       "       u'Number of Beneficiaries Age 75 to 84',\n",
       "       u'Number of Beneficiaries Age Greater 84',\n",
       "       u'Number of Female Beneficiaries', u'Number of Male Beneficiaries',\n",
       "       u'Number of Non-Hispanic White Beneficiaries',\n",
       "       u'Number of Black or African American Beneficiaries',\n",
       "       u'Number of Asian Pacific Islander Beneficiaries',\n",
       "       u'Number of Hispanic Beneficiaries',\n",
       "       u'Number of American Indian/Alaska Native Beneficiaries',\n",
       "       u'Number of Beneficiaries With Race Not Elsewhere Classified',\n",
       "       u'Number of Beneficiaries With Medicare Only Entitlement',\n",
       "       u'Number of Beneficiaries With Medicare & Medicaid Entitlement',\n",
       "       u'Percent (%) of Beneficiaries Identified With Alzheimer\\u2019s Disease or Dementia',\n",
       "       u'Percent (%) of Beneficiaries Identified With Asthma',\n",
       "       u'Percent (%) of Beneficiaries Identified With Atrial Fibrillation',\n",
       "       u'Percent (%) of Beneficiaries Identified With Cancer',\n",
       "       u'Percent (%) of Beneficiaries Identified With Chronic Kidney Disease',\n",
       "       u'Percent (%) of Beneficiaries Identified With Chronic Obstructive Pulmonary Disease',\n",
       "       u'Percent (%) of Beneficiaries Identified With Depression',\n",
       "       u'Percent (%) of Beneficiaries Identified With Diabetes',\n",
       "       u'Percent (%) of Beneficiaries Identified With Heart Failure',\n",
       "       u'Percent (%) of Beneficiaries Identified With Hyperlipidemia',\n",
       "       u'Percent (%) of Beneficiaries Identified With Hypertension',\n",
       "       u'Percent (%) of Beneficiaries Identified With Ischemic Heart Disease',\n",
       "       u'Percent (%) of Beneficiaries Identified With Osteoporosis',\n",
       "       u'Percent (%) of Beneficiaries Identified With Rheumatoid Arthritis / Osteoarthritis',\n",
       "       u'Percent (%) of Beneficiaries Identified With Schizophrenia / Other Psychotic Disorders',\n",
       "       u'Percent (%) of Beneficiaries Identified With Stroke',\n",
       "       u'Average HCC Risk Score of Beneficiaries', 'year'], dtype=object)"
      ]
     },
     "execution_count": 19,
     "metadata": {},
     "output_type": "execute_result"
    }
   ],
   "source": [
    "df_13_npi.columns.values"
   ]
  },
  {
   "cell_type": "code",
   "execution_count": 21,
   "metadata": {
    "collapsed": true
   },
   "outputs": [],
   "source": [
    "# fill null value with 0\n",
    "# and create a dataframe that only keeps year, NPI and age group number\n",
    "df_13_npi['Number of Beneficiaries Age Less 65 '].fillna(0, inplace = True)\n",
    "df_13_npi['Number of Beneficiaries Age 65 to 74'].fillna(0, inplace = True)\n",
    "df_13_npi['Number of Beneficiaries Age 75 to 84'].fillna(0, inplace = True)\n",
    "df_13_npi['Number of Beneficiaries Age Greater 84'].fillna(0, inplace = True)\n",
    "df_13_npi_age = df_13_npi[['NPI', 'Number of Beneficiaries Age Less 65 ', 'Number of Beneficiaries Age 65 to 74', 'Number of Beneficiaries Age 75 to 84', 'Number of Beneficiaries Age Greater 84', 'year']]"
   ]
  },
  {
   "cell_type": "code",
   "execution_count": 23,
   "metadata": {},
   "outputs": [
    {
     "name": "stdout",
     "output_type": "stream",
     "text": [
      "14.6418099403\n"
     ]
    }
   ],
   "source": [
    "# NPI level aggregated data, year 2014\n",
    "start = timeit.default_timer()\n",
    "\n",
    "df_14_npi = pd.read_csv('Medicare_Physician_and_Other_Supplier_NPI_Aggregate_CY2014.txt', sep = '\\t', header= 0)\n",
    "df_14_npi['year'] = '2014'\n",
    "\n",
    "stop = timeit.default_timer()\n",
    "print (stop - start)"
   ]
  },
  {
   "cell_type": "code",
   "execution_count": 24,
   "metadata": {},
   "outputs": [
    {
     "data": {
      "text/plain": [
       "array(['npi', 'nppes_provider_last_org_name', 'nppes_provider_first_name',\n",
       "       'nppes_provider_mi', 'nppes_credentials', 'nppes_provider_gender',\n",
       "       'nppes_entity_code', 'nppes_provider_street1',\n",
       "       'nppes_provider_street2', 'nppes_provider_city',\n",
       "       'nppes_provider_zip', 'nppes_provider_state',\n",
       "       'nppes_provider_country', 'provider_type',\n",
       "       'medicare_participation_indicator', 'number_of_hcpcs',\n",
       "       'total_services', 'total_unique_benes', 'total_submitted_chrg_amt',\n",
       "       'total_medicare_allowed_amt', 'total_medicare_payment_amt',\n",
       "       'total_medicare_stnd_amt', 'drug_suppress_indicator',\n",
       "       'number_of_drug_hcpcs', 'total_drug_services',\n",
       "       'total_drug_unique_benes', 'total_drug_submitted_chrg_amt',\n",
       "       'total_drug_medicare_allowed_amt',\n",
       "       'total_drug_medicare_payment_amt', 'total_drug_medicare_stnd_amt',\n",
       "       'med_suppress_indicator', 'number_of_med_hcpcs',\n",
       "       'total_med_services', 'total_med_unique_benes',\n",
       "       'total_med_submitted_chrg_amt', 'total_med_medicare_allowed_amt',\n",
       "       'total_med_medicare_payment_amt', 'total_med_medicare_stnd_amt',\n",
       "       'beneficiary_average_age', 'beneficiary_age_less_65_count',\n",
       "       'beneficiary_age_65_74_count', 'beneficiary_age_75_84_count',\n",
       "       'beneficiary_age_greater_84_count', 'beneficiary_female_count',\n",
       "       'beneficiary_male_count', 'beneficiary_race_white_count',\n",
       "       'beneficiary_race_black_count', 'beneficiary_race_api_count',\n",
       "       'beneficiary_race_hispanic_count', 'beneficiary_race_natind_count',\n",
       "       'beneficiary_race_other_count', 'beneficiary_nondual_count',\n",
       "       'beneficiary_dual_count', 'beneficiary_cc_afib_percent',\n",
       "       'beneficiary_cc_alzrdsd_percent', 'beneficiary_cc_asthma_percent',\n",
       "       'beneficiary_cc_cancer_percent', 'beneficiary_cc_chf_percent',\n",
       "       'beneficiary_cc_ckd_percent', 'beneficiary_cc_copd_percent',\n",
       "       'beneficiary_cc_depr_percent', 'beneficiary_cc_diab_percent',\n",
       "       'beneficiary_cc_hyperl_percent', 'beneficiary_cc_hypert_percent',\n",
       "       'beneficiary_cc_ihd_percent', 'beneficiary_cc_ost_percent',\n",
       "       'beneficiary_cc_raoa_percent', 'beneficiary_cc_schiot_percent',\n",
       "       'beneficiary_cc_strk_percent', 'Beneficiary_Average_Risk_Score',\n",
       "       'year'], dtype=object)"
      ]
     },
     "execution_count": 24,
     "metadata": {},
     "output_type": "execute_result"
    }
   ],
   "source": [
    "df_14_npi.columns.values"
   ]
  },
  {
   "cell_type": "code",
   "execution_count": 26,
   "metadata": {},
   "outputs": [],
   "source": [
    "# fill null value with 0\n",
    "# and create a dataframe that only keeps year, NPI and age group number\n",
    "df_14_npi['beneficiary_age_less_65_count'].fillna(0, inplace = True)\n",
    "df_14_npi['beneficiary_age_65_74_count'].fillna(0, inplace = True)\n",
    "df_14_npi['beneficiary_age_75_84_count'].fillna(0, inplace = True)\n",
    "df_14_npi['beneficiary_age_greater_84_count'].fillna(0, inplace = True)\n",
    "df_14_npi_age = df_14_npi[['npi', 'beneficiary_age_less_65_count', 'beneficiary_age_65_74_count', 'beneficiary_age_75_84_count', 'beneficiary_age_greater_84_count', 'year']]"
   ]
  },
  {
   "cell_type": "code",
   "execution_count": 28,
   "metadata": {},
   "outputs": [
    {
     "name": "stdout",
     "output_type": "stream",
     "text": [
      "15.5432770252\n"
     ]
    }
   ],
   "source": [
    "# NPI level aggregated data, year 2015\n",
    "start = timeit.default_timer()\n",
    "\n",
    "df_15_npi = pd.read_csv('Medicare_Physician_and_Other_Supplier_NPI_Aggregate_CY2015.txt', sep = '\\t', header= 0)\n",
    "df_15_npi['year'] = '2015'\n",
    "\n",
    "stop = timeit.default_timer()\n",
    "print (stop - start)"
   ]
  },
  {
   "cell_type": "code",
   "execution_count": 31,
   "metadata": {},
   "outputs": [
    {
     "data": {
      "text/plain": [
       "array(['npi', 'nppes_provider_last_org_name', 'nppes_provider_first_name',\n",
       "       'nppes_provider_mi', 'nppes_credentials', 'nppes_provider_gender',\n",
       "       'nppes_entity_code', 'nppes_provider_street1',\n",
       "       'nppes_provider_street2', 'nppes_provider_city',\n",
       "       'nppes_provider_zip', 'nppes_provider_state',\n",
       "       'nppes_provider_country', 'provider_type',\n",
       "       'medicare_participation_indicator', 'number_of_hcpcs',\n",
       "       'total_services', 'total_unique_benes', 'total_submitted_chrg_amt',\n",
       "       'total_medicare_allowed_amt', 'total_medicare_payment_amt',\n",
       "       'total_medicare_stnd_amt', 'drug_suppress_indicator',\n",
       "       'number_of_drug_hcpcs', 'total_drug_services',\n",
       "       'total_drug_unique_benes', 'total_drug_submitted_chrg_amt',\n",
       "       'total_drug_medicare_allowed_amt',\n",
       "       'total_drug_medicare_payment_amt', 'total_drug_medicare_stnd_amt',\n",
       "       'med_suppress_indicator', 'number_of_med_hcpcs',\n",
       "       'total_med_services', 'total_med_unique_benes',\n",
       "       'total_med_submitted_chrg_amt', 'total_med_medicare_allowed_amt',\n",
       "       'total_med_medicare_payment_amt', 'total_med_medicare_stnd_amt',\n",
       "       'beneficiary_average_age', 'beneficiary_age_less_65_count',\n",
       "       'beneficiary_age_65_74_count', 'beneficiary_age_75_84_count',\n",
       "       'beneficiary_age_greater_84_count', 'beneficiary_female_count',\n",
       "       'beneficiary_male_count', 'beneficiary_race_white_count',\n",
       "       'beneficiary_race_black_count', 'beneficiary_race_api_count',\n",
       "       'beneficiary_race_hispanic_count', 'beneficiary_race_natind_count',\n",
       "       'beneficiary_race_other_count', 'beneficiary_nondual_count',\n",
       "       'beneficiary_dual_count', 'beneficiary_cc_afib_percent',\n",
       "       'beneficiary_cc_alzrdsd_percent', 'beneficiary_cc_asthma_percent',\n",
       "       'beneficiary_cc_cancer_percent', 'beneficiary_cc_chf_percent',\n",
       "       'beneficiary_cc_ckd_percent', 'beneficiary_cc_copd_percent',\n",
       "       'beneficiary_cc_depr_percent', 'beneficiary_cc_diab_percent',\n",
       "       'beneficiary_cc_hyperl_percent', 'beneficiary_cc_hypert_percent',\n",
       "       'beneficiary_cc_ihd_percent', 'beneficiary_cc_ost_percent',\n",
       "       'beneficiary_cc_raoa_percent', 'beneficiary_cc_schiot_percent',\n",
       "       'beneficiary_cc_strk_percent', 'Beneficiary_Average_Risk_Score',\n",
       "       'year'], dtype=object)"
      ]
     },
     "execution_count": 31,
     "metadata": {},
     "output_type": "execute_result"
    }
   ],
   "source": [
    "df_15_npi.columns.values"
   ]
  },
  {
   "cell_type": "code",
   "execution_count": 33,
   "metadata": {},
   "outputs": [],
   "source": [
    "# fill null value with 0\n",
    "# and create a dataframe that only keeps year, NPI and age group number\n",
    "df_15_npi['beneficiary_age_less_65_count'].fillna(0, inplace = True)\n",
    "df_15_npi['beneficiary_age_65_74_count'].fillna(0, inplace = True)\n",
    "df_15_npi['beneficiary_age_75_84_count'].fillna(0, inplace = True)\n",
    "df_15_npi['beneficiary_age_greater_84_count'].fillna(0, inplace = True)\n",
    "df_15_npi_age = df_15_npi[['npi', 'beneficiary_age_less_65_count', 'beneficiary_age_65_74_count', 'beneficiary_age_75_84_count', 'beneficiary_age_greater_84_count', 'year']]"
   ]
  },
  {
   "cell_type": "code",
   "execution_count": 39,
   "metadata": {},
   "outputs": [
    {
     "name": "stdout",
     "output_type": "stream",
     "text": [
      "156.150655985\n"
     ]
    }
   ],
   "source": [
    "# unify column names and concatenate age dataframes together\n",
    "# groupby npi and aggeregate years together\n",
    "start = timeit.default_timer()\n",
    "\n",
    "df_12_npi_age.rename(columns = {'NPI': 'npi', 'Number of Beneficiaries Age Less 65 ': 'beneficiary_age_less_65_count', 'Number of Beneficiaries Age 65 to 74': 'beneficiary_age_65_74_count', 'Number of Beneficiaries Age 75 to 84': 'beneficiary_age_75_84_count', 'Number of Beneficiaries Age Greater 84': 'beneficiary_age_greater_84_count'}, inplace = True)\n",
    "df_13_npi_age.rename(columns = {'NPI': 'npi', 'Number of Beneficiaries Age Less 65 ': 'beneficiary_age_less_65_count', 'Number of Beneficiaries Age 65 to 74': 'beneficiary_age_65_74_count', 'Number of Beneficiaries Age 75 to 84': 'beneficiary_age_75_84_count', 'Number of Beneficiaries Age Greater 84': 'beneficiary_age_greater_84_count'}, inplace = True)\n",
    "\n",
    "df_npi_age = df_15_npi_age.append([df_14_npi_age, df_13_npi_age, df_12_npi_age])\n",
    "df_npi_age.reset_index(drop = True, inplace = True)\n",
    "df_npi_age = df_npi_age[['npi', 'beneficiary_age_less_65_count', 'beneficiary_age_65_74_count', 'beneficiary_age_75_84_count', 'beneficiary_age_greater_84_count']].groupby('npi')['beneficiary_age_less_65_count', 'beneficiary_age_65_74_count', 'beneficiary_age_75_84_count', 'beneficiary_age_greater_84_count'].apply(np.sum)\n",
    "\n",
    "stop = timeit.default_timer()\n",
    "print (stop - start)\n"
   ]
  },
  {
   "cell_type": "code",
   "execution_count": 40,
   "metadata": {},
   "outputs": [
    {
     "data": {
      "text/html": [
       "<div>\n",
       "<style>\n",
       "    .dataframe thead tr:only-child th {\n",
       "        text-align: right;\n",
       "    }\n",
       "\n",
       "    .dataframe thead th {\n",
       "        text-align: left;\n",
       "    }\n",
       "\n",
       "    .dataframe tbody tr th {\n",
       "        vertical-align: top;\n",
       "    }\n",
       "</style>\n",
       "<table border=\"1\" class=\"dataframe\">\n",
       "  <thead>\n",
       "    <tr style=\"text-align: right;\">\n",
       "      <th></th>\n",
       "      <th>beneficiary_age_less_65_count</th>\n",
       "      <th>beneficiary_age_65_74_count</th>\n",
       "      <th>beneficiary_age_75_84_count</th>\n",
       "      <th>beneficiary_age_greater_84_count</th>\n",
       "    </tr>\n",
       "    <tr>\n",
       "      <th>npi</th>\n",
       "      <th></th>\n",
       "      <th></th>\n",
       "      <th></th>\n",
       "      <th></th>\n",
       "    </tr>\n",
       "  </thead>\n",
       "  <tbody>\n",
       "    <tr>\n",
       "      <th>1003000126</th>\n",
       "      <td>520.0</td>\n",
       "      <td>897.0</td>\n",
       "      <td>978.0</td>\n",
       "      <td>693.0</td>\n",
       "    </tr>\n",
       "    <tr>\n",
       "      <th>1003000134</th>\n",
       "      <td>451.0</td>\n",
       "      <td>7110.0</td>\n",
       "      <td>6078.0</td>\n",
       "      <td>3087.0</td>\n",
       "    </tr>\n",
       "    <tr>\n",
       "      <th>1003000142</th>\n",
       "      <td>344.0</td>\n",
       "      <td>174.0</td>\n",
       "      <td>42.0</td>\n",
       "      <td>25.0</td>\n",
       "    </tr>\n",
       "    <tr>\n",
       "      <th>1003000381</th>\n",
       "      <td>0.0</td>\n",
       "      <td>19.0</td>\n",
       "      <td>0.0</td>\n",
       "      <td>0.0</td>\n",
       "    </tr>\n",
       "    <tr>\n",
       "      <th>1003000407</th>\n",
       "      <td>281.0</td>\n",
       "      <td>378.0</td>\n",
       "      <td>563.0</td>\n",
       "      <td>543.0</td>\n",
       "    </tr>\n",
       "  </tbody>\n",
       "</table>\n",
       "</div>"
      ],
      "text/plain": [
       "            beneficiary_age_less_65_count  beneficiary_age_65_74_count  \\\n",
       "npi                                                                      \n",
       "1003000126                          520.0                        897.0   \n",
       "1003000134                          451.0                       7110.0   \n",
       "1003000142                          344.0                        174.0   \n",
       "1003000381                            0.0                         19.0   \n",
       "1003000407                          281.0                        378.0   \n",
       "\n",
       "            beneficiary_age_75_84_count  beneficiary_age_greater_84_count  \n",
       "npi                                                                        \n",
       "1003000126                        978.0                             693.0  \n",
       "1003000134                       6078.0                            3087.0  \n",
       "1003000142                         42.0                              25.0  \n",
       "1003000381                          0.0                               0.0  \n",
       "1003000407                        563.0                             543.0  "
      ]
     },
     "execution_count": 40,
     "metadata": {},
     "output_type": "execute_result"
    }
   ],
   "source": [
    "df_npi_age.head()"
   ]
  },
  {
   "cell_type": "code",
   "execution_count": 41,
   "metadata": {},
   "outputs": [
    {
     "data": {
      "text/plain": [
       "count    1.063431e+06\n",
       "mean     7.986571e-01\n",
       "std      2.291580e-01\n",
       "min      0.000000e+00\n",
       "25%      7.421978e-01\n",
       "50%      8.586515e-01\n",
       "75%      9.545455e-01\n",
       "max      1.000000e+00\n",
       "Name: age_perc, dtype: float64"
      ]
     },
     "execution_count": 41,
     "metadata": {},
     "output_type": "execute_result"
    }
   ],
   "source": [
    "# calculate npi level age percentage (age 65 and above) and print summary statistics\n",
    "df_npi_age['age_perc'] = 1 - df_npi_age['beneficiary_age_less_65_count'] / (df_npi_age['beneficiary_age_less_65_count'] + df_npi_age['beneficiary_age_65_74_count'] + df_npi_age['beneficiary_age_75_84_count'] + df_npi_age['beneficiary_age_greater_84_count'])\n",
    "df_npi_age['age_perc'].describe()"
   ]
  },
  {
   "cell_type": "code",
   "execution_count": 44,
   "metadata": {},
   "outputs": [
    {
     "data": {
      "image/png": "[encoded data removed]",
      "text/plain": [
       "<matplotlib.figure.Figure at 0x1d5babfd0>"
      ]
     },
     "metadata": {},
     "output_type": "display_data"
    }
   ],
   "source": [
    "# plot the distribution of age percentage\n",
    "plt.clf()\n",
    "sns.distplot(df_npi_age['age_perc'], hist=False, color=\"g\", kde_kws={\"shade\": True, 'label': 'age above 65 percentage'})\n",
    "plt.show()"
   ]
  },
  {
   "cell_type": "markdown",
   "metadata": {},
   "source": [
    "### Concatenate cpt level data together and join the npi_age table"
   ]
  },
  {
   "cell_type": "code",
   "execution_count": 45,
   "metadata": {
    "collapsed": true
   },
   "outputs": [],
   "source": [
    "# convert column names to lower case and select relevant columns\n",
    "df_13.columns = df_13.columns.str.lower()\n",
    "df_12.columns = df_12.columns.str.lower()\n",
    "\n",
    "cols_to_keep = ['npi', 'hcpcs_code', 'hcpcs_description', 'year', 'bene_unique_cnt', 'line_srvc_cnt']\n",
    "\n",
    "df_15 = df_15[cols_to_keep]\n",
    "df_14 = df_14[cols_to_keep]\n",
    "df_13 = df_13[cols_to_keep]\n",
    "df_12 = df_12[cols_to_keep]"
   ]
  },
  {
   "cell_type": "code",
   "execution_count": 49,
   "metadata": {},
   "outputs": [],
   "source": [
    "# concatenate cpt level data and join age percentage\n",
    "df_cpt = df_15.append([df_14, df_13, df_12])\n",
    "df_cpt.reset_index(drop = True, inplace = True)\n",
    "df_npi_age.reset_index(drop = False, inplace = True)\n",
    "df_cpt = df_cpt.merge(df_npi_age[['npi', 'age_perc']], how = 'left', on = 'npi')"
   ]
  },
  {
   "cell_type": "code",
   "execution_count": 53,
   "metadata": {},
   "outputs": [],
   "source": [
    "# compute count of age 65 and above\n",
    "df_cpt['bene_unique_cnt_age_65_above'] = np.round(df_cpt['bene_unique_cnt'] * df_cpt['age_perc'])"
   ]
  },
  {
   "cell_type": "markdown",
   "metadata": {},
   "source": [
    "### Group cpt level data by hcpc codes"
   ]
  },
  {
   "cell_type": "code",
   "execution_count": 77,
   "metadata": {},
   "outputs": [],
   "source": [
    "# group cpt level data by hcpc codes, description, keep beneficiary counts and aged 65 above beneficiary counts\n",
    "df_cpt_grouped = df_cpt[['hcpcs_code', 'hcpcs_description', 'bene_unique_cnt', 'bene_unique_cnt_age_65_above']].groupby(['hcpcs_code', 'hcpcs_description'])['bene_unique_cnt', 'bene_unique_cnt_age_65_above'].apply(np.sum)"
   ]
  },
  {
   "cell_type": "code",
   "execution_count": 56,
   "metadata": {},
   "outputs": [
    {
     "data": {
      "text/html": [
       "<div>\n",
       "<style>\n",
       "    .dataframe thead tr:only-child th {\n",
       "        text-align: right;\n",
       "    }\n",
       "\n",
       "    .dataframe thead th {\n",
       "        text-align: left;\n",
       "    }\n",
       "\n",
       "    .dataframe tbody tr th {\n",
       "        vertical-align: top;\n",
       "    }\n",
       "</style>\n",
       "<table border=\"1\" class=\"dataframe\">\n",
       "  <thead>\n",
       "    <tr style=\"text-align: right;\">\n",
       "      <th></th>\n",
       "      <th></th>\n",
       "      <th>bene_unique_cnt</th>\n",
       "      <th>bene_unique_cnt_age_65_above</th>\n",
       "    </tr>\n",
       "    <tr>\n",
       "      <th>hcpcs_code</th>\n",
       "      <th>hcpcs_description</th>\n",
       "      <th></th>\n",
       "      <th></th>\n",
       "    </tr>\n",
       "  </thead>\n",
       "  <tbody>\n",
       "    <tr>\n",
       "      <th>00100</th>\n",
       "      <th>Anesthesia for procedure on salivary gland with biopsy</th>\n",
       "      <td>198.0</td>\n",
       "      <td>165.0</td>\n",
       "    </tr>\n",
       "    <tr>\n",
       "      <th>00102</th>\n",
       "      <th>Anesthesia for procedure to repair lip defect present at birth</th>\n",
       "      <td>146.0</td>\n",
       "      <td>133.0</td>\n",
       "    </tr>\n",
       "    <tr>\n",
       "      <th>00103</th>\n",
       "      <th>Anesthesia for procedure on eyelid</th>\n",
       "      <td>280228.0</td>\n",
       "      <td>252997.0</td>\n",
       "    </tr>\n",
       "    <tr>\n",
       "      <th>00104</th>\n",
       "      <th>Anesthesia for electric shock treatment</th>\n",
       "      <td>264208.0</td>\n",
       "      <td>192100.0</td>\n",
       "    </tr>\n",
       "    <tr>\n",
       "      <th>00120</th>\n",
       "      <th>Anesthesia for biopsy of external middle and inner ear</th>\n",
       "      <td>7828.0</td>\n",
       "      <td>6585.0</td>\n",
       "    </tr>\n",
       "    <tr>\n",
       "      <th>00126</th>\n",
       "      <th>Anesthesia for incision of ear drum</th>\n",
       "      <td>2598.0</td>\n",
       "      <td>2231.0</td>\n",
       "    </tr>\n",
       "    <tr>\n",
       "      <th>00140</th>\n",
       "      <th>Anesthesia for procedure on eye</th>\n",
       "      <td>319196.0</td>\n",
       "      <td>289249.0</td>\n",
       "    </tr>\n",
       "    <tr>\n",
       "      <th>00142</th>\n",
       "      <th>Anesthesia for lens surgery</th>\n",
       "      <td>6979653.0</td>\n",
       "      <td>6196594.0</td>\n",
       "    </tr>\n",
       "    <tr>\n",
       "      <th>00144</th>\n",
       "      <th>Anesthesia for procedure on eye for corneal transplant</th>\n",
       "      <td>37294.0</td>\n",
       "      <td>34078.0</td>\n",
       "    </tr>\n",
       "    <tr>\n",
       "      <th>00145</th>\n",
       "      <th>Anesthesia for retinal surgery</th>\n",
       "      <td>311361.0</td>\n",
       "      <td>272041.0</td>\n",
       "    </tr>\n",
       "    <tr>\n",
       "      <th>00147</th>\n",
       "      <th>Anesthesia for procedure on eye for removal of iris</th>\n",
       "      <td>1046.0</td>\n",
       "      <td>971.0</td>\n",
       "    </tr>\n",
       "    <tr>\n",
       "      <th>00148</th>\n",
       "      <th>Anesthesia for eye examination using an endoscope</th>\n",
       "      <td>158.0</td>\n",
       "      <td>141.0</td>\n",
       "    </tr>\n",
       "    <tr>\n",
       "      <th>0015F</th>\n",
       "      <th>Melan follow-up complete</th>\n",
       "      <td>16.0</td>\n",
       "      <td>15.0</td>\n",
       "    </tr>\n",
       "    <tr>\n",
       "      <th>00160</th>\n",
       "      <th>Anesthesia for procedure on nose and sinus</th>\n",
       "      <td>36552.0</td>\n",
       "      <td>30804.0</td>\n",
       "    </tr>\n",
       "    <tr>\n",
       "      <th>00164</th>\n",
       "      <th>Anesthesia for soft tissue biopsy on nose and sinus</th>\n",
       "      <td>41.0</td>\n",
       "      <td>30.0</td>\n",
       "    </tr>\n",
       "    <tr>\n",
       "      <th>00170</th>\n",
       "      <th>Anesthesia for procedure on mouth including biopsy</th>\n",
       "      <td>13118.0</td>\n",
       "      <td>9057.0</td>\n",
       "    </tr>\n",
       "    <tr>\n",
       "      <th>00190</th>\n",
       "      <th>Anesthesia for procedure on facial bones or skull</th>\n",
       "      <td>797.0</td>\n",
       "      <td>692.0</td>\n",
       "    </tr>\n",
       "    <tr>\n",
       "      <th>00192</th>\n",
       "      <th>Anesthesia for surgery of facial bones or skull</th>\n",
       "      <td>27.0</td>\n",
       "      <td>25.0</td>\n",
       "    </tr>\n",
       "    <tr>\n",
       "      <th>0019T</th>\n",
       "      <th>Low energy shock wave therapy of musculoskeletal system</th>\n",
       "      <td>610.0</td>\n",
       "      <td>571.0</td>\n",
       "    </tr>\n",
       "    <tr>\n",
       "      <th>00210</th>\n",
       "      <th>Anesthesia for procedure on brain</th>\n",
       "      <td>23712.0</td>\n",
       "      <td>17903.0</td>\n",
       "    </tr>\n",
       "    <tr>\n",
       "      <th>00211</th>\n",
       "      <th>Anesthesia for procedure to remove blood collection in brain</th>\n",
       "      <td>187.0</td>\n",
       "      <td>144.0</td>\n",
       "    </tr>\n",
       "    <tr>\n",
       "      <th>00214</th>\n",
       "      <th>Anesthesia for procedure to create holes in skull including X-ray imaging</th>\n",
       "      <td>85.0</td>\n",
       "      <td>67.0</td>\n",
       "    </tr>\n",
       "    <tr>\n",
       "      <th>00216</th>\n",
       "      <th>Anesthesia for procedure on blood vessel in brain</th>\n",
       "      <td>70.0</td>\n",
       "      <td>44.0</td>\n",
       "    </tr>\n",
       "    <tr>\n",
       "      <th>00218</th>\n",
       "      <th>Anesthesia for procedure on brain patient in sitting position</th>\n",
       "      <td>62.0</td>\n",
       "      <td>47.0</td>\n",
       "    </tr>\n",
       "    <tr>\n",
       "      <th>00220</th>\n",
       "      <th>Anesthesia for procedure to drain brain and spinal cord fluid</th>\n",
       "      <td>931.0</td>\n",
       "      <td>736.0</td>\n",
       "    </tr>\n",
       "    <tr>\n",
       "      <th>00222</th>\n",
       "      <th>Anesthesia for procedure on nerve in brain</th>\n",
       "      <td>198.0</td>\n",
       "      <td>142.0</td>\n",
       "    </tr>\n",
       "    <tr>\n",
       "      <th>00300</th>\n",
       "      <th>Anesthesia for procedure on esophagus and neck</th>\n",
       "      <td>279792.0</td>\n",
       "      <td>227803.0</td>\n",
       "    </tr>\n",
       "    <tr>\n",
       "      <th>0030T</th>\n",
       "      <th>Anti-clotting antibody analysis</th>\n",
       "      <td>436.0</td>\n",
       "      <td>362.0</td>\n",
       "    </tr>\n",
       "    <tr>\n",
       "      <th>00320</th>\n",
       "      <th>Anesthesia for procedure on esophagus and neck, age 1 year or older</th>\n",
       "      <td>127401.0</td>\n",
       "      <td>99892.0</td>\n",
       "    </tr>\n",
       "    <tr>\n",
       "      <th>00322</th>\n",
       "      <th>Anesthesia for needle biopsy of thyroid</th>\n",
       "      <td>11.0</td>\n",
       "      <td>9.0</td>\n",
       "    </tr>\n",
       "  </tbody>\n",
       "</table>\n",
       "</div>"
      ],
      "text/plain": [
       "                                                               bene_unique_cnt  \\\n",
       "hcpcs_code hcpcs_description                                                     \n",
       "00100      Anesthesia for procedure on salivary gland with...            198.0   \n",
       "00102      Anesthesia for procedure to repair lip defect p...            146.0   \n",
       "00103      Anesthesia for procedure on eyelid                         280228.0   \n",
       "00104      Anesthesia for electric shock treatment                    264208.0   \n",
       "00120      Anesthesia for biopsy of external middle and in...           7828.0   \n",
       "00126      Anesthesia for incision of ear drum                          2598.0   \n",
       "00140      Anesthesia for procedure on eye                            319196.0   \n",
       "00142      Anesthesia for lens surgery                               6979653.0   \n",
       "00144      Anesthesia for procedure on eye for corneal tra...          37294.0   \n",
       "00145      Anesthesia for retinal surgery                             311361.0   \n",
       "00147      Anesthesia for procedure on eye for removal of ...           1046.0   \n",
       "00148      Anesthesia for eye examination using an endoscope             158.0   \n",
       "0015F      Melan follow-up complete                                       16.0   \n",
       "00160      Anesthesia for procedure on nose and sinus                  36552.0   \n",
       "00164      Anesthesia for soft tissue biopsy on nose and s...             41.0   \n",
       "00170      Anesthesia for procedure on mouth including biopsy          13118.0   \n",
       "00190      Anesthesia for procedure on facial bones or skull             797.0   \n",
       "00192      Anesthesia for surgery of facial bones or skull                27.0   \n",
       "0019T      Low energy shock wave therapy of musculoskeleta...            610.0   \n",
       "00210      Anesthesia for procedure on brain                           23712.0   \n",
       "00211      Anesthesia for procedure to remove blood collec...            187.0   \n",
       "00214      Anesthesia for procedure to create holes in sku...             85.0   \n",
       "00216      Anesthesia for procedure on blood vessel in brain              70.0   \n",
       "00218      Anesthesia for procedure on brain patient in si...             62.0   \n",
       "00220      Anesthesia for procedure to drain brain and spi...            931.0   \n",
       "00222      Anesthesia for procedure on nerve in brain                    198.0   \n",
       "00300      Anesthesia for procedure on esophagus and neck             279792.0   \n",
       "0030T      Anti-clotting antibody analysis                               436.0   \n",
       "00320      Anesthesia for procedure on esophagus and neck,...         127401.0   \n",
       "00322      Anesthesia for needle biopsy of thyroid                        11.0   \n",
       "\n",
       "                                                               bene_unique_cnt_age_65_above  \n",
       "hcpcs_code hcpcs_description                                                                 \n",
       "00100      Anesthesia for procedure on salivary gland with...                         165.0  \n",
       "00102      Anesthesia for procedure to repair lip defect p...                         133.0  \n",
       "00103      Anesthesia for procedure on eyelid                                      252997.0  \n",
       "00104      Anesthesia for electric shock treatment                                 192100.0  \n",
       "00120      Anesthesia for biopsy of external middle and in...                        6585.0  \n",
       "00126      Anesthesia for incision of ear drum                                       2231.0  \n",
       "00140      Anesthesia for procedure on eye                                         289249.0  \n",
       "00142      Anesthesia for lens surgery                                            6196594.0  \n",
       "00144      Anesthesia for procedure on eye for corneal tra...                       34078.0  \n",
       "00145      Anesthesia for retinal surgery                                          272041.0  \n",
       "00147      Anesthesia for procedure on eye for removal of ...                         971.0  \n",
       "00148      Anesthesia for eye examination using an endoscope                          141.0  \n",
       "0015F      Melan follow-up complete                                                    15.0  \n",
       "00160      Anesthesia for procedure on nose and sinus                               30804.0  \n",
       "00164      Anesthesia for soft tissue biopsy on nose and s...                          30.0  \n",
       "00170      Anesthesia for procedure on mouth including biopsy                        9057.0  \n",
       "00190      Anesthesia for procedure on facial bones or skull                          692.0  \n",
       "00192      Anesthesia for surgery of facial bones or skull                             25.0  \n",
       "0019T      Low energy shock wave therapy of musculoskeleta...                         571.0  \n",
       "00210      Anesthesia for procedure on brain                                        17903.0  \n",
       "00211      Anesthesia for procedure to remove blood collec...                         144.0  \n",
       "00214      Anesthesia for procedure to create holes in sku...                          67.0  \n",
       "00216      Anesthesia for procedure on blood vessel in brain                           44.0  \n",
       "00218      Anesthesia for procedure on brain patient in si...                          47.0  \n",
       "00220      Anesthesia for procedure to drain brain and spi...                         736.0  \n",
       "00222      Anesthesia for procedure on nerve in brain                                 142.0  \n",
       "00300      Anesthesia for procedure on esophagus and neck                          227803.0  \n",
       "0030T      Anti-clotting antibody analysis                                            362.0  \n",
       "00320      Anesthesia for procedure on esophagus and neck,...                       99892.0  \n",
       "00322      Anesthesia for needle biopsy of thyroid                                      9.0  "
      ]
     },
     "execution_count": 56,
     "metadata": {},
     "output_type": "execute_result"
    }
   ],
   "source": [
    "df_cpt_grouped.head(30)"
   ]
  },
  {
   "cell_type": "code",
   "execution_count": 58,
   "metadata": {},
   "outputs": [
    {
     "data": {
      "text/plain": [
       "(8497, 2)"
      ]
     },
     "execution_count": 58,
     "metadata": {},
     "output_type": "execute_result"
    }
   ],
   "source": [
    "df_cpt_grouped.shape"
   ]
  },
  {
   "cell_type": "markdown",
   "metadata": {},
   "source": [
    "### Save files to csv for future use"
   ]
  },
  {
   "cell_type": "code",
   "execution_count": 60,
   "metadata": {},
   "outputs": [],
   "source": [
    "# save npi level raw data of year 2012 and 2013 in csv format for easy loading\n",
    "df_12_npi.to_csv('Medicare-Physician-and-Other-Supplier-NPI-Aggregate-CY2012.csv', sep = ',', index = False, encoding='utf-8')\n",
    "df_13_npi.to_csv('Medicare-Physician-and-Other-Supplier-NPI-Aggregate-CY2013.csv', sep = ',', index = False, encoding='utf-8')"
   ]
  },
  {
   "cell_type": "code",
   "execution_count": 61,
   "metadata": {
    "collapsed": true
   },
   "outputs": [],
   "source": [
    "# save npi level age group raw data in csv format\n",
    "df_npi_age.to_csv('Medicare-Physician-and-Other-Supplier-NPI-Aggregate_Age_Group.csv', sep = ',', index = False, encoding = 'utf-8')"
   ]
  },
  {
   "cell_type": "code",
   "execution_count": 62,
   "metadata": {
    "collapsed": true
   },
   "outputs": [],
   "source": [
    "# save cpt level grouped data in csv format\n",
    "df_cpt_grouped.to_csv('cms_data_groupedby_hcpcs_cpt_codes_2012_to_2015.csv', sep = ',', index = True)"
   ]
  },
  {
   "cell_type": "markdown",
   "metadata": {},
   "source": [
    "### Plot beneficiary counts in cpt level"
   ]
  },
  {
   "cell_type": "code",
   "execution_count": 79,
   "metadata": {},
   "outputs": [
    {
     "data": {
      "text/html": [
       "<div>\n",
       "<style>\n",
       "    .dataframe thead tr:only-child th {\n",
       "        text-align: right;\n",
       "    }\n",
       "\n",
       "    .dataframe thead th {\n",
       "        text-align: left;\n",
       "    }\n",
       "\n",
       "    .dataframe tbody tr th {\n",
       "        vertical-align: top;\n",
       "    }\n",
       "</style>\n",
       "<table border=\"1\" class=\"dataframe\">\n",
       "  <thead>\n",
       "    <tr style=\"text-align: right;\">\n",
       "      <th></th>\n",
       "      <th>hcpcs_code</th>\n",
       "      <th>hcpcs_description</th>\n",
       "      <th>bene_unique_cnt</th>\n",
       "      <th>bene_unique_cnt_age_65_above</th>\n",
       "    </tr>\n",
       "  </thead>\n",
       "  <tbody>\n",
       "    <tr>\n",
       "      <th>0</th>\n",
       "      <td>00100</td>\n",
       "      <td>Anesthesia for procedure on salivary gland wit...</td>\n",
       "      <td>198.0</td>\n",
       "      <td>165.0</td>\n",
       "    </tr>\n",
       "    <tr>\n",
       "      <th>1</th>\n",
       "      <td>00102</td>\n",
       "      <td>Anesthesia for procedure to repair lip defect ...</td>\n",
       "      <td>146.0</td>\n",
       "      <td>133.0</td>\n",
       "    </tr>\n",
       "    <tr>\n",
       "      <th>2</th>\n",
       "      <td>00103</td>\n",
       "      <td>Anesthesia for procedure on eyelid</td>\n",
       "      <td>280228.0</td>\n",
       "      <td>252997.0</td>\n",
       "    </tr>\n",
       "    <tr>\n",
       "      <th>3</th>\n",
       "      <td>00104</td>\n",
       "      <td>Anesthesia for electric shock treatment</td>\n",
       "      <td>264208.0</td>\n",
       "      <td>192100.0</td>\n",
       "    </tr>\n",
       "    <tr>\n",
       "      <th>4</th>\n",
       "      <td>00120</td>\n",
       "      <td>Anesthesia for biopsy of external middle and i...</td>\n",
       "      <td>7828.0</td>\n",
       "      <td>6585.0</td>\n",
       "    </tr>\n",
       "  </tbody>\n",
       "</table>\n",
       "</div>"
      ],
      "text/plain": [
       "  hcpcs_code                                  hcpcs_description  \\\n",
       "0      00100  Anesthesia for procedure on salivary gland wit...   \n",
       "1      00102  Anesthesia for procedure to repair lip defect ...   \n",
       "2      00103                 Anesthesia for procedure on eyelid   \n",
       "3      00104            Anesthesia for electric shock treatment   \n",
       "4      00120  Anesthesia for biopsy of external middle and i...   \n",
       "\n",
       "   bene_unique_cnt  bene_unique_cnt_age_65_above  \n",
       "0            198.0                         165.0  \n",
       "1            146.0                         133.0  \n",
       "2         280228.0                      252997.0  \n",
       "3         264208.0                      192100.0  \n",
       "4           7828.0                        6585.0  "
      ]
     },
     "execution_count": 79,
     "metadata": {},
     "output_type": "execute_result"
    }
   ],
   "source": [
    "df_cpt_grouped.reset_index(drop = False, inplace = True)\n",
    "df_cpt_grouped.head()"
   ]
  },
  {
   "cell_type": "code",
   "execution_count": 81,
   "metadata": {},
   "outputs": [
    {
     "data": {
      "image/png": "[encoded data removed]",
      "text/plain": [
       "<matplotlib.figure.Figure at 0x1a918f290>"
      ]
     },
     "metadata": {},
     "output_type": "display_data"
    }
   ],
   "source": [
    "# plot beneficiary for 2 age groups distribution\n",
    "plt.clf()\n",
    "sns.kdeplot(df_cpt_grouped['bene_unique_cnt'], shade=True, legend= True, color = 'r')\n",
    "sns.kdeplot(df_cpt_grouped['bene_unique_cnt_age_65_above'], shade=True, legend= True, color = 'b')\n",
    "plt.show()"
   ]
  },
  {
   "cell_type": "code",
   "execution_count": null,
   "metadata": {
    "collapsed": true
   },
   "outputs": [],
   "source": []
  }
 ],
 "metadata": {
  "kernelspec": {
   "display_name": "Python 2",
   "language": "python",
   "name": "python2"
  },
  "language_info": {
   "codemirror_mode": {
    "name": "ipython",
    "version": 2
   },
   "file_extension": ".py",
   "mimetype": "text/x-python",
   "name": "python",
   "nbconvert_exporter": "python",
   "pygments_lexer": "ipython2",
   "version": "2.7.13"
  }
 },
 "nbformat": 4,
 "nbformat_minor": 2
}
