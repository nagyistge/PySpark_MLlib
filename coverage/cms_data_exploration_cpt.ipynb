{
 "cells": [
  {
   "cell_type": "markdown",
   "metadata": {},
   "source": [
    "# Coverage Estimation"
   ]
  },
  {
   "cell_type": "markdown",
   "metadata": {},
   "source": [
    "## CMS Data Extraction and Manipulation "
   ]
  },
  {
   "cell_type": "code",
   "execution_count": 1,
   "metadata": {
    "collapsed": true
   },
   "outputs": [],
   "source": [
    "import pandas as pd\n",
    "import numpy as np\n",
    "import timeit\n",
    "import seaborn as sns\n",
    "import matplotlib.pyplot as plt"
   ]
  },
  {
   "cell_type": "markdown",
   "metadata": {},
   "source": [
    "### Load CPT level data (Year 2012 - 2015)"
   ]
  },
  {
   "cell_type": "code",
   "execution_count": 2,
   "metadata": {
    "scrolled": false
   },
   "outputs": [
    {
     "name": "stderr",
     "output_type": "stream",
     "text": [
      "/Users/michaelli/anaconda2/lib/python2.7/site-packages/IPython/core/interactiveshell.py:2717: DtypeWarning: Columns (10) have mixed types. Specify dtype option on import or set low_memory=False.\n",
      "  interactivity=interactivity, compiler=compiler, result=result)\n"
     ]
    },
    {
     "name": "stdout",
     "output_type": "stream",
     "text": [
      "97.1260848045\n"
     ]
    }
   ],
   "source": [
    "# CPT level data, year 2015\n",
    "start = timeit.default_timer()\n",
    "\n",
    "df_15 = pd.read_csv('Medicare_Provider_Util_Payment_PUF_CY2015.txt', sep = '\\t', header = 0)\n",
    "df_15['year'] = '2015'\n",
    "df_15.drop(df_15.index == 0, inplace = True)\n",
    "\n",
    "stop = timeit.default_timer()\n",
    "print (stop - start)"
   ]
  },
  {
   "cell_type": "code",
   "execution_count": 3,
   "metadata": {},
   "outputs": [
    {
     "data": {
      "text/plain": [
       "array(['npi', 'nppes_provider_last_org_name', 'nppes_provider_first_name',\n",
       "       'nppes_provider_mi', 'nppes_credentials', 'nppes_provider_gender',\n",
       "       'nppes_entity_code', 'nppes_provider_street1',\n",
       "       'nppes_provider_street2', 'nppes_provider_city',\n",
       "       'nppes_provider_zip', 'nppes_provider_state',\n",
       "       'nppes_provider_country', 'provider_type',\n",
       "       'medicare_participation_indicator', 'place_of_service',\n",
       "       'hcpcs_code', 'hcpcs_description', 'hcpcs_drug_indicator',\n",
       "       'line_srvc_cnt', 'bene_unique_cnt', 'bene_day_srvc_cnt',\n",
       "       'average_Medicare_allowed_amt', 'average_submitted_chrg_amt',\n",
       "       'average_Medicare_payment_amt', 'average_Medicare_standard_amt',\n",
       "       'year'], dtype=object)"
      ]
     },
     "execution_count": 3,
     "metadata": {},
     "output_type": "execute_result"
    }
   ],
   "source": [
    "df_15.columns.values"
   ]
  },
  {
   "cell_type": "code",
   "execution_count": 4,
   "metadata": {},
   "outputs": [
    {
     "name": "stdout",
     "output_type": "stream",
     "text": [
      "103.09792304\n"
     ]
    }
   ],
   "source": [
    "# CPT level data, year 2014\n",
    "start = timeit.default_timer()\n",
    "\n",
    "df_14 = pd.read_csv('Medicare_Provider_Util_Payment_PUF_CY2014.txt', sep = '\\t', header = 0)\n",
    "df_14['year'] = '2014'\n",
    "df_14.drop(df_14.index == 0, inplace = True)\n",
    "\n",
    "stop = timeit.default_timer()\n",
    "print (stop - start)"
   ]
  },
  {
   "cell_type": "code",
   "execution_count": 5,
   "metadata": {},
   "outputs": [
    {
     "data": {
      "text/plain": [
       "array(['npi', 'nppes_provider_last_org_name', 'nppes_provider_first_name',\n",
       "       'nppes_provider_mi', 'nppes_credentials', 'nppes_provider_gender',\n",
       "       'nppes_entity_code', 'nppes_provider_street1',\n",
       "       'nppes_provider_street2', 'nppes_provider_city',\n",
       "       'nppes_provider_zip', 'nppes_provider_state',\n",
       "       'nppes_provider_country', 'provider_type',\n",
       "       'medicare_participation_indicator', 'place_of_service',\n",
       "       'hcpcs_code', 'hcpcs_description', 'hcpcs_drug_indicator',\n",
       "       'line_srvc_cnt', 'bene_unique_cnt', 'bene_day_srvc_cnt',\n",
       "       'average_Medicare_allowed_amt', 'average_submitted_chrg_amt',\n",
       "       'average_Medicare_payment_amt', 'average_Medicare_standard_amt',\n",
       "       'year'], dtype=object)"
      ]
     },
     "execution_count": 5,
     "metadata": {},
     "output_type": "execute_result"
    }
   ],
   "source": [
    "df_14.columns.values"
   ]
  },
  {
   "cell_type": "code",
   "execution_count": 6,
   "metadata": {},
   "outputs": [
    {
     "name": "stdout",
     "output_type": "stream",
     "text": [
      "103.493999004\n"
     ]
    }
   ],
   "source": [
    "# CPT level data, year 2013\n",
    "start = timeit.default_timer()\n",
    "\n",
    "df_13 = pd.read_csv('Medicare_Provider_Util_Payment_PUF_CY2013.txt', sep = '\\t', header = 0)\n",
    "df_13['year'] = '2013'\n",
    "df_13.drop(df_13.index == 0, inplace = True)\n",
    "\n",
    "stop = timeit.default_timer()\n",
    "print (stop - start)"
   ]
  },
  {
   "cell_type": "code",
   "execution_count": 7,
   "metadata": {},
   "outputs": [
    {
     "data": {
      "text/plain": [
       "array(['NPI', 'NPPES_PROVIDER_LAST_ORG_NAME', 'NPPES_PROVIDER_FIRST_NAME',\n",
       "       'NPPES_PROVIDER_MI', 'NPPES_CREDENTIALS', 'NPPES_PROVIDER_GENDER',\n",
       "       'NPPES_ENTITY_CODE', 'NPPES_PROVIDER_STREET1',\n",
       "       'NPPES_PROVIDER_STREET2', 'NPPES_PROVIDER_CITY',\n",
       "       'NPPES_PROVIDER_ZIP', 'NPPES_PROVIDER_STATE',\n",
       "       'NPPES_PROVIDER_COUNTRY', 'PROVIDER_TYPE',\n",
       "       'MEDICARE_PARTICIPATION_INDICATOR', 'PLACE_OF_SERVICE',\n",
       "       'HCPCS_CODE', 'HCPCS_DESCRIPTION', 'HCPCS_DRUG_INDICATOR',\n",
       "       'LINE_SRVC_CNT', 'BENE_UNIQUE_CNT', 'BENE_DAY_SRVC_CNT',\n",
       "       'AVERAGE_MEDICARE_ALLOWED_AMT', 'STDEV_MEDICARE_ALLOWED_AMT',\n",
       "       'AVERAGE_SUBMITTED_CHRG_AMT', 'STDEV_SUBMITTED_CHRG_AMT',\n",
       "       'AVERAGE_MEDICARE_PAYMENT_AMT', 'STDEV_MEDICARE_PAYMENT_AMT', 'year'], dtype=object)"
      ]
     },
     "execution_count": 7,
     "metadata": {},
     "output_type": "execute_result"
    }
   ],
   "source": [
    "df_13.columns.values"
   ]
  },
  {
   "cell_type": "code",
   "execution_count": 8,
   "metadata": {},
   "outputs": [
    {
     "name": "stdout",
     "output_type": "stream",
     "text": [
      "98.7526941299\n"
     ]
    }
   ],
   "source": [
    "# CPT level, year 2012\n",
    "start = timeit.default_timer()\n",
    "\n",
    "df_12 = pd.read_csv('Medicare_Provider_Util_Payment_PUF_CY2012.txt', sep = '\\t', header = 0)\n",
    "df_12['year'] = '2012'\n",
    "df_12.drop(df_12.index == 0, inplace = True)\n",
    "\n",
    "stop = timeit.default_timer()\n",
    "print (stop - start)"
   ]
  },
  {
   "cell_type": "code",
   "execution_count": 9,
   "metadata": {},
   "outputs": [
    {
     "data": {
      "text/plain": [
       "array(['NPI', 'NPPES_PROVIDER_LAST_ORG_NAME', 'NPPES_PROVIDER_FIRST_NAME',\n",
       "       'NPPES_PROVIDER_MI', 'NPPES_CREDENTIALS', 'NPPES_PROVIDER_GENDER',\n",
       "       'NPPES_ENTITY_CODE', 'NPPES_PROVIDER_STREET1',\n",
       "       'NPPES_PROVIDER_STREET2', 'NPPES_PROVIDER_CITY',\n",
       "       'NPPES_PROVIDER_ZIP', 'NPPES_PROVIDER_STATE',\n",
       "       'NPPES_PROVIDER_COUNTRY', 'PROVIDER_TYPE',\n",
       "       'MEDICARE_PARTICIPATION_INDICATOR', 'PLACE_OF_SERVICE',\n",
       "       'HCPCS_CODE', 'HCPCS_DESCRIPTION', 'HCPCS_DRUG_INDICATOR',\n",
       "       'LINE_SRVC_CNT', 'BENE_UNIQUE_CNT', 'BENE_DAY_SRVC_CNT',\n",
       "       'AVERAGE_MEDICARE_ALLOWED_AMT', 'STDEV_MEDICARE_ALLOWED_AMT',\n",
       "       'AVERAGE_SUBMITTED_CHRG_AMT', 'STDEV_SUBMITTED_CHRG_AMT',\n",
       "       'AVERAGE_MEDICARE_PAYMENT_AMT', 'STDEV_MEDICARE_PAYMENT_AMT', 'year'], dtype=object)"
      ]
     },
     "execution_count": 9,
     "metadata": {},
     "output_type": "execute_result"
    }
   ],
   "source": [
    "df_12.columns.values"
   ]
  },
  {
   "cell_type": "markdown",
   "metadata": {},
   "source": [
    "### Load and explore NPI level aggregated data (year 2012 - 2015)"
   ]
  },
  {
   "cell_type": "code",
   "execution_count": 10,
   "metadata": {},
   "outputs": [
    {
     "name": "stdout",
     "output_type": "stream",
     "text": [
      "15.366050005\n"
     ]
    }
   ],
   "source": [
    "# NPI level aggregated data, year 2012\n",
    "start = timeit.default_timer()\n",
    "\n",
    "# df_12_npi = pd.read_excel('Medicare-Physician-and-Other-Supplier-NPI-Aggregate-CY2012.xlsx', sheetname= 'DATA', header= 0)\n",
    "df_12_npi = pd.read_csv('Medicare-Physician-and-Other-Supplier-NPI-Aggregate-CY2012.csv', sep = ',', header= 0)\n",
    "df_12_npi['year'] = '2012'\n",
    "\n",
    "stop = timeit.default_timer()\n",
    "print (stop - start)"
   ]
  },
  {
   "cell_type": "code",
   "execution_count": 11,
   "metadata": {},
   "outputs": [
    {
     "data": {
      "text/plain": [
       "array(['NPI', 'NPPES Provider Last Name / Organization Name',\n",
       "       'NPPES Provider First Name', 'NPPES Provider Middle Initial',\n",
       "       'NPPES Credentials', 'NPPES Provider Gender', 'NPPES Entity Code',\n",
       "       'NPPES Provider Street Address 1',\n",
       "       'NPPES Provider Street Address 2', 'NPPES Provider City',\n",
       "       'NPPES Provider Zip Code', 'NPPES Provider State',\n",
       "       'NPPES Provider Country ', 'Provider Type',\n",
       "       'Medicare Participation Indicator', 'Number of HCPCS',\n",
       "       'Number of Services', 'Number of Unique Beneficiaries',\n",
       "       'Total Submitted Charges', 'Total Medicare Allowed Amount',\n",
       "       'Total Medicare Payment Amount', 'Drug Suppress Indicator',\n",
       "       'Number of HCPCS Associated With Drug Services',\n",
       "       'Number of Drug Services',\n",
       "       'Number of Unique Beneficiaries With Drug Services',\n",
       "       'Total Drug Submitted Charges',\n",
       "       'Total Drug Medicare Allowed Amount',\n",
       "       'Total Drug Medicare Payment Amount', 'Medical Suppress Indicator',\n",
       "       'Number of HCPCS Associated With Medical Services',\n",
       "       'Number of Medical Services',\n",
       "       'Number of Unique Beneficiaries With Medical Services',\n",
       "       'Total Medical Submitted Charges',\n",
       "       'Total Medical Medicare Allowed Amount',\n",
       "       'Total Medical Medicare Payment Amount',\n",
       "       'Average Age of Beneficiaries',\n",
       "       'Number of Beneficiaries Age Less 65 ',\n",
       "       'Number of Beneficiaries Age 65 to 74',\n",
       "       'Number of Beneficiaries Age 75 to 84',\n",
       "       'Number of Beneficiaries Age Greater 84',\n",
       "       'Number of Female Beneficiaries', 'Number of Male Beneficiaries',\n",
       "       'Number of Non-Hispanic White Beneficiaries',\n",
       "       'Number of Black or African American Beneficiaries',\n",
       "       'Number of Asian Pacific Islander Beneficiaries',\n",
       "       'Number of Hispanic Beneficiaries',\n",
       "       'Number of American Indian/Alaska Native Beneficiaries',\n",
       "       'Number of Beneficiaries With Race Not Elsewhere Classified',\n",
       "       'Number of Beneficiaries With Medicare Only Entitlement',\n",
       "       'Number of Beneficiaries With Medicare & Medicaid Entitlement',\n",
       "       'Percent (%) of Beneficiaries Identified With Alzheimer\\xe2\\x80\\x99s Disease or Dementia',\n",
       "       'Percent (%) of Beneficiaries Identified With Asthma',\n",
       "       'Percent (%) of Beneficiaries Identified With Atrial Fibrillation',\n",
       "       'Percent (%) of Beneficiaries Identified With Cancer',\n",
       "       'Percent (%) of Beneficiaries Identified With Chronic Kidney Disease',\n",
       "       'Percent (%) of Beneficiaries Identified With Chronic Obstructive Pulmonary Disease',\n",
       "       'Percent (%) of Beneficiaries Identified With Depression',\n",
       "       'Percent (%) of Beneficiaries Identified With Diabetes',\n",
       "       'Percent (%) of Beneficiaries Identified With Heart Failure',\n",
       "       'Percent (%) of Beneficiaries Identified With Hyperlipidemia',\n",
       "       'Percent (%) of Beneficiaries Identified With Hypertension',\n",
       "       'Percent (%) of Beneficiaries Identified With Ischemic Heart Disease',\n",
       "       'Percent (%) of Beneficiaries Identified With Osteoporosis',\n",
       "       'Percent (%) of Beneficiaries Identified With Rheumatoid Arthritis / Osteoarthritis',\n",
       "       'Percent (%) of Beneficiaries Identified With Schizophrenia / Other Psychotic Disorders',\n",
       "       'Percent (%) of Beneficiaries Identified With Stroke',\n",
       "       'Average HCC Risk Score of Beneficiaries', 'year', 'age_perc'], dtype=object)"
      ]
     },
     "execution_count": 11,
     "metadata": {},
     "output_type": "execute_result"
    }
   ],
   "source": [
    "df_12_npi.columns.values"
   ]
  },
  {
   "cell_type": "code",
   "execution_count": 12,
   "metadata": {
    "collapsed": true
   },
   "outputs": [],
   "source": [
    "# fill null value with 0\n",
    "# and create a dataframe that only keeps NPI and age group number\n",
    "df_12_npi['Number of Beneficiaries Age Less 65 '].fillna(0, inplace = True)\n",
    "df_12_npi['Number of Beneficiaries Age 65 to 74'].fillna(0, inplace = True)\n",
    "df_12_npi['Number of Beneficiaries Age 75 to 84'].fillna(0, inplace = True)\n",
    "df_12_npi['Number of Beneficiaries Age Greater 84'].fillna(0, inplace = True)\n",
    "df_12_npi_age = df_12_npi[['NPI', 'Number of Beneficiaries Age Less 65 ', 'Number of Beneficiaries Age 65 to 74', 'Number of Beneficiaries Age 75 to 84', 'Number of Beneficiaries Age Greater 84', 'year']]"
   ]
  },
  {
   "cell_type": "code",
   "execution_count": 13,
   "metadata": {},
   "outputs": [
    {
     "name": "stdout",
     "output_type": "stream",
     "text": [
      "14.0945150852\n"
     ]
    }
   ],
   "source": [
    "# NPI level aggregated data, year 2013\n",
    "start = timeit.default_timer()\n",
    "\n",
    "# df_13_npi = pd.read_excel('Medicare-Physician-and-Other-Supplier-NPI-Aggregate-CY2013.xlsx', sheetname= 'DATA', header= 0)\n",
    "df_13_npi = pd.read_csv('Medicare-Physician-and-Other-Supplier-NPI-Aggregate-CY2013.csv', sep = ',', header= 0)\n",
    "df_13_npi['year'] = '2013'\n",
    "\n",
    "stop = timeit.default_timer()\n",
    "print (stop - start)"
   ]
  },
  {
   "cell_type": "code",
   "execution_count": 14,
   "metadata": {},
   "outputs": [
    {
     "data": {
      "text/plain": [
       "array(['NPI', 'NPPES Provider Last Name / Organization Name',\n",
       "       'NPPES Provider First Name', 'NPPES Provider Middle Initial',\n",
       "       'NPPES Credentials', 'NPPES Provider Gender', 'NPPES Entity Code',\n",
       "       'NPPES Provider Street Address 1',\n",
       "       'NPPES Provider Street Address 2', 'NPPES Provider City',\n",
       "       'NPPES Provider Zip Code', 'NPPES Provider State',\n",
       "       'NPPES Provider Country ', 'Provider Type',\n",
       "       'Medicare Participation Indicator', 'Number of HCPCS',\n",
       "       'Number of Services', 'Number of Unique Beneficiaries',\n",
       "       'Total Submitted Charges', 'Total Medicare Allowed Amount',\n",
       "       'Total Medicare Payment Amount', 'Drug Suppress Indicator',\n",
       "       'Number of HCPCS Associated With Drug Services',\n",
       "       'Number of Drug Services',\n",
       "       'Number of Unique Beneficiaries With Drug Services',\n",
       "       'Total Drug Submitted Charges',\n",
       "       'Total Drug Medicare Allowed Amount',\n",
       "       'Total Drug Medicare Payment Amount', 'Medical Suppress Indicator',\n",
       "       'Number of HCPCS Associated With Medical Services',\n",
       "       'Number of Medical Services',\n",
       "       'Number of Unique Beneficiaries With Medical Services',\n",
       "       'Total Medical Submitted Charges',\n",
       "       'Total Medical Medicare Allowed Amount',\n",
       "       'Total Medical Medicare Payment Amount',\n",
       "       'Average Age of Beneficiaries',\n",
       "       'Number of Beneficiaries Age Less 65 ',\n",
       "       'Number of Beneficiaries Age 65 to 74',\n",
       "       'Number of Beneficiaries Age 75 to 84',\n",
       "       'Number of Beneficiaries Age Greater 84',\n",
       "       'Number of Female Beneficiaries', 'Number of Male Beneficiaries',\n",
       "       'Number of Non-Hispanic White Beneficiaries',\n",
       "       'Number of Black or African American Beneficiaries',\n",
       "       'Number of Asian Pacific Islander Beneficiaries',\n",
       "       'Number of Hispanic Beneficiaries',\n",
       "       'Number of American Indian/Alaska Native Beneficiaries',\n",
       "       'Number of Beneficiaries With Race Not Elsewhere Classified',\n",
       "       'Number of Beneficiaries With Medicare Only Entitlement',\n",
       "       'Number of Beneficiaries With Medicare & Medicaid Entitlement',\n",
       "       'Percent (%) of Beneficiaries Identified With Alzheimer\\xe2\\x80\\x99s Disease or Dementia',\n",
       "       'Percent (%) of Beneficiaries Identified With Asthma',\n",
       "       'Percent (%) of Beneficiaries Identified With Atrial Fibrillation',\n",
       "       'Percent (%) of Beneficiaries Identified With Cancer',\n",
       "       'Percent (%) of Beneficiaries Identified With Chronic Kidney Disease',\n",
       "       'Percent (%) of Beneficiaries Identified With Chronic Obstructive Pulmonary Disease',\n",
       "       'Percent (%) of Beneficiaries Identified With Depression',\n",
       "       'Percent (%) of Beneficiaries Identified With Diabetes',\n",
       "       'Percent (%) of Beneficiaries Identified With Heart Failure',\n",
       "       'Percent (%) of Beneficiaries Identified With Hyperlipidemia',\n",
       "       'Percent (%) of Beneficiaries Identified With Hypertension',\n",
       "       'Percent (%) of Beneficiaries Identified With Ischemic Heart Disease',\n",
       "       'Percent (%) of Beneficiaries Identified With Osteoporosis',\n",
       "       'Percent (%) of Beneficiaries Identified With Rheumatoid Arthritis / Osteoarthritis',\n",
       "       'Percent (%) of Beneficiaries Identified With Schizophrenia / Other Psychotic Disorders',\n",
       "       'Percent (%) of Beneficiaries Identified With Stroke',\n",
       "       'Average HCC Risk Score of Beneficiaries', 'year'], dtype=object)"
      ]
     },
     "execution_count": 14,
     "metadata": {},
     "output_type": "execute_result"
    }
   ],
   "source": [
    "df_13_npi.columns.values"
   ]
  },
  {
   "cell_type": "code",
   "execution_count": 15,
   "metadata": {
    "collapsed": true
   },
   "outputs": [],
   "source": [
    "# fill null value with 0\n",
    "# and create a dataframe that only keeps year, NPI and age group number\n",
    "df_13_npi['Number of Beneficiaries Age Less 65 '].fillna(0, inplace = True)\n",
    "df_13_npi['Number of Beneficiaries Age 65 to 74'].fillna(0, inplace = True)\n",
    "df_13_npi['Number of Beneficiaries Age 75 to 84'].fillna(0, inplace = True)\n",
    "df_13_npi['Number of Beneficiaries Age Greater 84'].fillna(0, inplace = True)\n",
    "df_13_npi_age = df_13_npi[['NPI', 'Number of Beneficiaries Age Less 65 ', 'Number of Beneficiaries Age 65 to 74', 'Number of Beneficiaries Age 75 to 84', 'Number of Beneficiaries Age Greater 84', 'year']]"
   ]
  },
  {
   "cell_type": "code",
   "execution_count": 16,
   "metadata": {},
   "outputs": [
    {
     "name": "stdout",
     "output_type": "stream",
     "text": [
      "14.0714399815\n"
     ]
    }
   ],
   "source": [
    "# NPI level aggregated data, year 2014\n",
    "start = timeit.default_timer()\n",
    "\n",
    "df_14_npi = pd.read_csv('Medicare_Physician_and_Other_Supplier_NPI_Aggregate_CY2014.txt', sep = '\\t', header= 0)\n",
    "df_14_npi['year'] = '2014'\n",
    "\n",
    "stop = timeit.default_timer()\n",
    "print (stop - start)"
   ]
  },
  {
   "cell_type": "code",
   "execution_count": 17,
   "metadata": {},
   "outputs": [
    {
     "data": {
      "text/plain": [
       "array(['npi', 'nppes_provider_last_org_name', 'nppes_provider_first_name',\n",
       "       'nppes_provider_mi', 'nppes_credentials', 'nppes_provider_gender',\n",
       "       'nppes_entity_code', 'nppes_provider_street1',\n",
       "       'nppes_provider_street2', 'nppes_provider_city',\n",
       "       'nppes_provider_zip', 'nppes_provider_state',\n",
       "       'nppes_provider_country', 'provider_type',\n",
       "       'medicare_participation_indicator', 'number_of_hcpcs',\n",
       "       'total_services', 'total_unique_benes', 'total_submitted_chrg_amt',\n",
       "       'total_medicare_allowed_amt', 'total_medicare_payment_amt',\n",
       "       'total_medicare_stnd_amt', 'drug_suppress_indicator',\n",
       "       'number_of_drug_hcpcs', 'total_drug_services',\n",
       "       'total_drug_unique_benes', 'total_drug_submitted_chrg_amt',\n",
       "       'total_drug_medicare_allowed_amt',\n",
       "       'total_drug_medicare_payment_amt', 'total_drug_medicare_stnd_amt',\n",
       "       'med_suppress_indicator', 'number_of_med_hcpcs',\n",
       "       'total_med_services', 'total_med_unique_benes',\n",
       "       'total_med_submitted_chrg_amt', 'total_med_medicare_allowed_amt',\n",
       "       'total_med_medicare_payment_amt', 'total_med_medicare_stnd_amt',\n",
       "       'beneficiary_average_age', 'beneficiary_age_less_65_count',\n",
       "       'beneficiary_age_65_74_count', 'beneficiary_age_75_84_count',\n",
       "       'beneficiary_age_greater_84_count', 'beneficiary_female_count',\n",
       "       'beneficiary_male_count', 'beneficiary_race_white_count',\n",
       "       'beneficiary_race_black_count', 'beneficiary_race_api_count',\n",
       "       'beneficiary_race_hispanic_count', 'beneficiary_race_natind_count',\n",
       "       'beneficiary_race_other_count', 'beneficiary_nondual_count',\n",
       "       'beneficiary_dual_count', 'beneficiary_cc_afib_percent',\n",
       "       'beneficiary_cc_alzrdsd_percent', 'beneficiary_cc_asthma_percent',\n",
       "       'beneficiary_cc_cancer_percent', 'beneficiary_cc_chf_percent',\n",
       "       'beneficiary_cc_ckd_percent', 'beneficiary_cc_copd_percent',\n",
       "       'beneficiary_cc_depr_percent', 'beneficiary_cc_diab_percent',\n",
       "       'beneficiary_cc_hyperl_percent', 'beneficiary_cc_hypert_percent',\n",
       "       'beneficiary_cc_ihd_percent', 'beneficiary_cc_ost_percent',\n",
       "       'beneficiary_cc_raoa_percent', 'beneficiary_cc_schiot_percent',\n",
       "       'beneficiary_cc_strk_percent', 'Beneficiary_Average_Risk_Score',\n",
       "       'year'], dtype=object)"
      ]
     },
     "execution_count": 17,
     "metadata": {},
     "output_type": "execute_result"
    }
   ],
   "source": [
    "df_14_npi.columns.values"
   ]
  },
  {
   "cell_type": "code",
   "execution_count": 18,
   "metadata": {
    "collapsed": true
   },
   "outputs": [],
   "source": [
    "# fill null value with 0\n",
    "# and create a dataframe that only keeps year, NPI and age group number\n",
    "df_14_npi['beneficiary_age_less_65_count'].fillna(0, inplace = True)\n",
    "df_14_npi['beneficiary_age_65_74_count'].fillna(0, inplace = True)\n",
    "df_14_npi['beneficiary_age_75_84_count'].fillna(0, inplace = True)\n",
    "df_14_npi['beneficiary_age_greater_84_count'].fillna(0, inplace = True)\n",
    "df_14_npi_age = df_14_npi[['npi', 'beneficiary_age_less_65_count', 'beneficiary_age_65_74_count', 'beneficiary_age_75_84_count', 'beneficiary_age_greater_84_count', 'year']]"
   ]
  },
  {
   "cell_type": "code",
   "execution_count": 19,
   "metadata": {},
   "outputs": [
    {
     "name": "stdout",
     "output_type": "stream",
     "text": [
      "15.6912820339\n"
     ]
    }
   ],
   "source": [
    "# NPI level aggregated data, year 2015\n",
    "start = timeit.default_timer()\n",
    "\n",
    "df_15_npi = pd.read_csv('Medicare_Physician_and_Other_Supplier_NPI_Aggregate_CY2015.txt', sep = '\\t', header= 0)\n",
    "df_15_npi['year'] = '2015'\n",
    "\n",
    "stop = timeit.default_timer()\n",
    "print (stop - start)"
   ]
  },
  {
   "cell_type": "code",
   "execution_count": 20,
   "metadata": {},
   "outputs": [
    {
     "data": {
      "text/plain": [
       "array(['npi', 'nppes_provider_last_org_name', 'nppes_provider_first_name',\n",
       "       'nppes_provider_mi', 'nppes_credentials', 'nppes_provider_gender',\n",
       "       'nppes_entity_code', 'nppes_provider_street1',\n",
       "       'nppes_provider_street2', 'nppes_provider_city',\n",
       "       'nppes_provider_zip', 'nppes_provider_state',\n",
       "       'nppes_provider_country', 'provider_type',\n",
       "       'medicare_participation_indicator', 'number_of_hcpcs',\n",
       "       'total_services', 'total_unique_benes', 'total_submitted_chrg_amt',\n",
       "       'total_medicare_allowed_amt', 'total_medicare_payment_amt',\n",
       "       'total_medicare_stnd_amt', 'drug_suppress_indicator',\n",
       "       'number_of_drug_hcpcs', 'total_drug_services',\n",
       "       'total_drug_unique_benes', 'total_drug_submitted_chrg_amt',\n",
       "       'total_drug_medicare_allowed_amt',\n",
       "       'total_drug_medicare_payment_amt', 'total_drug_medicare_stnd_amt',\n",
       "       'med_suppress_indicator', 'number_of_med_hcpcs',\n",
       "       'total_med_services', 'total_med_unique_benes',\n",
       "       'total_med_submitted_chrg_amt', 'total_med_medicare_allowed_amt',\n",
       "       'total_med_medicare_payment_amt', 'total_med_medicare_stnd_amt',\n",
       "       'beneficiary_average_age', 'beneficiary_age_less_65_count',\n",
       "       'beneficiary_age_65_74_count', 'beneficiary_age_75_84_count',\n",
       "       'beneficiary_age_greater_84_count', 'beneficiary_female_count',\n",
       "       'beneficiary_male_count', 'beneficiary_race_white_count',\n",
       "       'beneficiary_race_black_count', 'beneficiary_race_api_count',\n",
       "       'beneficiary_race_hispanic_count', 'beneficiary_race_natind_count',\n",
       "       'beneficiary_race_other_count', 'beneficiary_nondual_count',\n",
       "       'beneficiary_dual_count', 'beneficiary_cc_afib_percent',\n",
       "       'beneficiary_cc_alzrdsd_percent', 'beneficiary_cc_asthma_percent',\n",
       "       'beneficiary_cc_cancer_percent', 'beneficiary_cc_chf_percent',\n",
       "       'beneficiary_cc_ckd_percent', 'beneficiary_cc_copd_percent',\n",
       "       'beneficiary_cc_depr_percent', 'beneficiary_cc_diab_percent',\n",
       "       'beneficiary_cc_hyperl_percent', 'beneficiary_cc_hypert_percent',\n",
       "       'beneficiary_cc_ihd_percent', 'beneficiary_cc_ost_percent',\n",
       "       'beneficiary_cc_raoa_percent', 'beneficiary_cc_schiot_percent',\n",
       "       'beneficiary_cc_strk_percent', 'Beneficiary_Average_Risk_Score',\n",
       "       'year'], dtype=object)"
      ]
     },
     "execution_count": 20,
     "metadata": {},
     "output_type": "execute_result"
    }
   ],
   "source": [
    "df_15_npi.columns.values"
   ]
  },
  {
   "cell_type": "code",
   "execution_count": 21,
   "metadata": {
    "collapsed": true
   },
   "outputs": [],
   "source": [
    "# fill null value with 0\n",
    "# and create a dataframe that only keeps year, NPI and age group number\n",
    "df_15_npi['beneficiary_age_less_65_count'].fillna(0, inplace = True)\n",
    "df_15_npi['beneficiary_age_65_74_count'].fillna(0, inplace = True)\n",
    "df_15_npi['beneficiary_age_75_84_count'].fillna(0, inplace = True)\n",
    "df_15_npi['beneficiary_age_greater_84_count'].fillna(0, inplace = True)\n",
    "df_15_npi_age = df_15_npi[['npi', 'beneficiary_age_less_65_count', 'beneficiary_age_65_74_count', 'beneficiary_age_75_84_count', 'beneficiary_age_greater_84_count', 'year']]"
   ]
  },
  {
   "cell_type": "code",
   "execution_count": 22,
   "metadata": {},
   "outputs": [
    {
     "name": "stdout",
     "output_type": "stream",
     "text": [
      "154.381829977\n"
     ]
    }
   ],
   "source": [
    "# unify column names and keep age group counts\n",
    "# groupby npi\n",
    "start = timeit.default_timer()\n",
    "\n",
    "# df_12_npi_age.rename(columns = {'NPI': 'npi', 'Number of Beneficiaries Age Less 65 ': 'beneficiary_age_less_65_count', 'Number of Beneficiaries Age 65 to 74': 'beneficiary_age_65_74_count', 'Number of Beneficiaries Age 75 to 84': 'beneficiary_age_75_84_count', 'Number of Beneficiaries Age Greater 84': 'beneficiary_age_greater_84_count'}, inplace = True)\n",
    "# df_13_npi_age.rename(columns = {'NPI': 'npi', 'Number of Beneficiaries Age Less 65 ': 'beneficiary_age_less_65_count', 'Number of Beneficiaries Age 65 to 74': 'beneficiary_age_65_74_count', 'Number of Beneficiaries Age 75 to 84': 'beneficiary_age_75_84_count', 'Number of Beneficiaries Age Greater 84': 'beneficiary_age_greater_84_count'}, inplace = True)\n",
    "\n",
    "# df_npi_age = df_15_npi_age\n",
    "# df_npi_age.reset_index(drop = True, inplace = True)\n",
    "df_npi_age = df_15_npi_age[['npi', 'beneficiary_age_less_65_count', 'beneficiary_age_65_74_count', 'beneficiary_age_75_84_count', 'beneficiary_age_greater_84_count']].groupby('npi')['beneficiary_age_less_65_count', 'beneficiary_age_65_74_count', 'beneficiary_age_75_84_count', 'beneficiary_age_greater_84_count'].apply(np.sum)\n",
    "\n",
    "stop = timeit.default_timer()\n",
    "print (stop - start)\n"
   ]
  },
  {
   "cell_type": "code",
   "execution_count": 23,
   "metadata": {},
   "outputs": [
    {
     "data": {
      "text/html": [
       "<div>\n",
       "<style>\n",
       "    .dataframe thead tr:only-child th {\n",
       "        text-align: right;\n",
       "    }\n",
       "\n",
       "    .dataframe thead th {\n",
       "        text-align: left;\n",
       "    }\n",
       "\n",
       "    .dataframe tbody tr th {\n",
       "        vertical-align: top;\n",
       "    }\n",
       "</style>\n",
       "<table border=\"1\" class=\"dataframe\">\n",
       "  <thead>\n",
       "    <tr style=\"text-align: right;\">\n",
       "      <th></th>\n",
       "      <th>beneficiary_age_less_65_count</th>\n",
       "      <th>beneficiary_age_65_74_count</th>\n",
       "      <th>beneficiary_age_75_84_count</th>\n",
       "      <th>beneficiary_age_greater_84_count</th>\n",
       "    </tr>\n",
       "    <tr>\n",
       "      <th>npi</th>\n",
       "      <th></th>\n",
       "      <th></th>\n",
       "      <th></th>\n",
       "      <th></th>\n",
       "    </tr>\n",
       "  </thead>\n",
       "  <tbody>\n",
       "    <tr>\n",
       "      <th>1003000126</th>\n",
       "      <td>149.0</td>\n",
       "      <td>293.0</td>\n",
       "      <td>289.0</td>\n",
       "      <td>198.0</td>\n",
       "    </tr>\n",
       "    <tr>\n",
       "      <th>1003000134</th>\n",
       "      <td>156.0</td>\n",
       "      <td>1991.0</td>\n",
       "      <td>1652.0</td>\n",
       "      <td>887.0</td>\n",
       "    </tr>\n",
       "    <tr>\n",
       "      <th>1003000142</th>\n",
       "      <td>123.0</td>\n",
       "      <td>58.0</td>\n",
       "      <td>0.0</td>\n",
       "      <td>0.0</td>\n",
       "    </tr>\n",
       "    <tr>\n",
       "      <th>1003000407</th>\n",
       "      <td>76.0</td>\n",
       "      <td>107.0</td>\n",
       "      <td>160.0</td>\n",
       "      <td>150.0</td>\n",
       "    </tr>\n",
       "    <tr>\n",
       "      <th>1003000423</th>\n",
       "      <td>21.0</td>\n",
       "      <td>22.0</td>\n",
       "      <td>0.0</td>\n",
       "      <td>0.0</td>\n",
       "    </tr>\n",
       "  </tbody>\n",
       "</table>\n",
       "</div>"
      ],
      "text/plain": [
       "            beneficiary_age_less_65_count  beneficiary_age_65_74_count  \\\n",
       "npi                                                                      \n",
       "1003000126                          149.0                        293.0   \n",
       "1003000134                          156.0                       1991.0   \n",
       "1003000142                          123.0                         58.0   \n",
       "1003000407                           76.0                        107.0   \n",
       "1003000423                           21.0                         22.0   \n",
       "\n",
       "            beneficiary_age_75_84_count  beneficiary_age_greater_84_count  \n",
       "npi                                                                        \n",
       "1003000126                        289.0                             198.0  \n",
       "1003000134                       1652.0                             887.0  \n",
       "1003000142                          0.0                               0.0  \n",
       "1003000407                        160.0                             150.0  \n",
       "1003000423                          0.0                               0.0  "
      ]
     },
     "execution_count": 23,
     "metadata": {},
     "output_type": "execute_result"
    }
   ],
   "source": [
    "df_npi_age.head()"
   ]
  },
  {
   "cell_type": "code",
   "execution_count": 24,
   "metadata": {},
   "outputs": [
    {
     "data": {
      "text/plain": [
       "count    913484.000000\n",
       "mean          0.812310\n",
       "std           0.222718\n",
       "min           0.000000\n",
       "25%           0.752101\n",
       "50%           0.867052\n",
       "75%           1.000000\n",
       "max           1.000000\n",
       "Name: age_perc, dtype: float64"
      ]
     },
     "execution_count": 24,
     "metadata": {},
     "output_type": "execute_result"
    }
   ],
   "source": [
    "# calculate npi level age percentage (age 65 and above) and print summary statistics\n",
    "df_npi_age['age_perc'] = 1 - df_npi_age['beneficiary_age_less_65_count'] / (df_npi_age['beneficiary_age_less_65_count'] + df_npi_age['beneficiary_age_65_74_count'] + df_npi_age['beneficiary_age_75_84_count'] + df_npi_age['beneficiary_age_greater_84_count'])\n",
    "df_npi_age['age_perc'].describe()"
   ]
  },
  {
   "cell_type": "code",
   "execution_count": 25,
   "metadata": {},
   "outputs": [
    {
     "name": "stderr",
     "output_type": "stream",
     "text": [
      "/Users/michaelli/anaconda2/lib/python2.7/site-packages/statsmodels/nonparametric/kde.py:454: RuntimeWarning: invalid value encountered in greater\n",
      "  X = X[np.logical_and(X>clip[0], X<clip[1])] # won't work for two columns.\n",
      "/Users/michaelli/anaconda2/lib/python2.7/site-packages/statsmodels/nonparametric/kde.py:454: RuntimeWarning: invalid value encountered in less\n",
      "  X = X[np.logical_and(X>clip[0], X<clip[1])] # won't work for two columns.\n"
     ]
    },
    {
     "data": {
      "image/png": "[encoded data removed]",
      "text/plain": [
       "<matplotlib.figure.Figure at 0x10c51f710>"
      ]
     },
     "metadata": {},
     "output_type": "display_data"
    }
   ],
   "source": [
    "# plot the distribution of age percentage\n",
    "plt.clf()\n",
    "sns.distplot(df_npi_age['age_perc'], hist=False, color=\"g\", kde_kws={\"shade\": True, 'label': 'age above 65 percentage'})\n",
    "plt.show()"
   ]
  },
  {
   "cell_type": "markdown",
   "metadata": {},
   "source": [
    "###  Join the npi_age table"
   ]
  },
  {
   "cell_type": "code",
   "execution_count": 26,
   "metadata": {},
   "outputs": [],
   "source": [
    "# convert column names to lower case and select relevant columns\n",
    "df_13.columns = df_13.columns.str.lower()\n",
    "df_12.columns = df_12.columns.str.lower()\n",
    "\n",
    "cols_to_keep = ['npi', 'nppes_provider_state', 'hcpcs_code', 'hcpcs_description', 'year', 'bene_unique_cnt']\n",
    "\n",
    "df_15 = df_15[cols_to_keep]\n",
    "df_14 = df_14[cols_to_keep]\n",
    "df_13 = df_13[cols_to_keep]\n",
    "df_12 = df_12[cols_to_keep]"
   ]
  },
  {
   "cell_type": "code",
   "execution_count": 27,
   "metadata": {},
   "outputs": [],
   "source": [
    "# concatenate cpt level data and join age percentage\n",
    "# df_cpt = df_15.append([df_14, df_13, df_12])\n",
    "# df_cpt.reset_index(drop = True, inplace = True)\n",
    "df_npi_age.reset_index(drop = False, inplace = True)\n",
    "df_cpt = df_15.merge(df_npi_age[['npi', 'age_perc']], how = 'left', on = 'npi')"
   ]
  },
  {
   "cell_type": "code",
   "execution_count": 28,
   "metadata": {
    "collapsed": true
   },
   "outputs": [],
   "source": [
    "# compute count of age 65 and above\n",
    "df_cpt['bene_unique_cnt_age_65_above'] = np.round(df_cpt['bene_unique_cnt'] * df_cpt['age_perc'])"
   ]
  },
  {
   "cell_type": "markdown",
   "metadata": {},
   "source": [
    "### Group cpt level data by hcpc codes and state"
   ]
  },
  {
   "cell_type": "code",
   "execution_count": 30,
   "metadata": {},
   "outputs": [],
   "source": [
    "# group cpt level data by hcpc codes, description, keep beneficiary counts and aged 65 above beneficiary counts\n",
    "df_cpt_grouped = df_cpt[['hcpcs_code', 'hcpcs_description', 'nppes_provider_state', 'bene_unique_cnt', 'bene_unique_cnt_age_65_above']].groupby(['hcpcs_code', 'hcpcs_description', 'nppes_provider_state'])['bene_unique_cnt', 'bene_unique_cnt_age_65_above'].apply(np.sum)"
   ]
  },
  {
   "cell_type": "code",
   "execution_count": 31,
   "metadata": {},
   "outputs": [
    {
     "data": {
      "text/html": [
       "<div>\n",
       "<style>\n",
       "    .dataframe thead tr:only-child th {\n",
       "        text-align: right;\n",
       "    }\n",
       "\n",
       "    .dataframe thead th {\n",
       "        text-align: left;\n",
       "    }\n",
       "\n",
       "    .dataframe tbody tr th {\n",
       "        vertical-align: top;\n",
       "    }\n",
       "</style>\n",
       "<table border=\"1\" class=\"dataframe\">\n",
       "  <thead>\n",
       "    <tr style=\"text-align: right;\">\n",
       "      <th></th>\n",
       "      <th></th>\n",
       "      <th></th>\n",
       "      <th>bene_unique_cnt</th>\n",
       "      <th>bene_unique_cnt_age_65_above</th>\n",
       "    </tr>\n",
       "    <tr>\n",
       "      <th>hcpcs_code</th>\n",
       "      <th>hcpcs_description</th>\n",
       "      <th>nppes_provider_state</th>\n",
       "      <th></th>\n",
       "      <th></th>\n",
       "    </tr>\n",
       "  </thead>\n",
       "  <tbody>\n",
       "    <tr>\n",
       "      <th rowspan=\"4\" valign=\"top\">00100</th>\n",
       "      <th rowspan=\"4\" valign=\"top\">Anesthesia for procedure on salivary gland with biopsy</th>\n",
       "      <th>IL</th>\n",
       "      <td>19.0</td>\n",
       "      <td>8.0</td>\n",
       "    </tr>\n",
       "    <tr>\n",
       "      <th>NY</th>\n",
       "      <td>13.0</td>\n",
       "      <td>11.0</td>\n",
       "    </tr>\n",
       "    <tr>\n",
       "      <th>OH</th>\n",
       "      <td>13.0</td>\n",
       "      <td>10.0</td>\n",
       "    </tr>\n",
       "    <tr>\n",
       "      <th>PA</th>\n",
       "      <td>12.0</td>\n",
       "      <td>10.0</td>\n",
       "    </tr>\n",
       "    <tr>\n",
       "      <th>00102</th>\n",
       "      <th>Anesthesia for procedure to repair lip defect present at birth</th>\n",
       "      <th>AL</th>\n",
       "      <td>129.0</td>\n",
       "      <td>120.0</td>\n",
       "    </tr>\n",
       "    <tr>\n",
       "      <th rowspan=\"25\" valign=\"top\">00103</th>\n",
       "      <th rowspan=\"25\" valign=\"top\">Anesthesia for procedure on eyelid</th>\n",
       "      <th>AK</th>\n",
       "      <td>64.0</td>\n",
       "      <td>64.0</td>\n",
       "    </tr>\n",
       "    <tr>\n",
       "      <th>AL</th>\n",
       "      <td>2272.0</td>\n",
       "      <td>1995.0</td>\n",
       "    </tr>\n",
       "    <tr>\n",
       "      <th>AR</th>\n",
       "      <td>862.0</td>\n",
       "      <td>784.0</td>\n",
       "    </tr>\n",
       "    <tr>\n",
       "      <th>AZ</th>\n",
       "      <td>2175.0</td>\n",
       "      <td>2102.0</td>\n",
       "    </tr>\n",
       "    <tr>\n",
       "      <th>CA</th>\n",
       "      <td>5675.0</td>\n",
       "      <td>5238.0</td>\n",
       "    </tr>\n",
       "    <tr>\n",
       "      <th>CO</th>\n",
       "      <td>1030.0</td>\n",
       "      <td>939.0</td>\n",
       "    </tr>\n",
       "    <tr>\n",
       "      <th>CT</th>\n",
       "      <td>627.0</td>\n",
       "      <td>583.0</td>\n",
       "    </tr>\n",
       "    <tr>\n",
       "      <th>DC</th>\n",
       "      <td>102.0</td>\n",
       "      <td>94.0</td>\n",
       "    </tr>\n",
       "    <tr>\n",
       "      <th>DE</th>\n",
       "      <td>573.0</td>\n",
       "      <td>519.0</td>\n",
       "    </tr>\n",
       "    <tr>\n",
       "      <th>FL</th>\n",
       "      <td>10052.0</td>\n",
       "      <td>9283.0</td>\n",
       "    </tr>\n",
       "    <tr>\n",
       "      <th>GA</th>\n",
       "      <td>2616.0</td>\n",
       "      <td>2354.0</td>\n",
       "    </tr>\n",
       "    <tr>\n",
       "      <th>HI</th>\n",
       "      <td>113.0</td>\n",
       "      <td>106.0</td>\n",
       "    </tr>\n",
       "    <tr>\n",
       "      <th>IA</th>\n",
       "      <td>335.0</td>\n",
       "      <td>315.0</td>\n",
       "    </tr>\n",
       "    <tr>\n",
       "      <th>ID</th>\n",
       "      <td>262.0</td>\n",
       "      <td>245.0</td>\n",
       "    </tr>\n",
       "    <tr>\n",
       "      <th>IL</th>\n",
       "      <td>1411.0</td>\n",
       "      <td>1267.0</td>\n",
       "    </tr>\n",
       "    <tr>\n",
       "      <th>IN</th>\n",
       "      <td>1050.0</td>\n",
       "      <td>891.0</td>\n",
       "    </tr>\n",
       "    <tr>\n",
       "      <th>KS</th>\n",
       "      <td>1081.0</td>\n",
       "      <td>1016.0</td>\n",
       "    </tr>\n",
       "    <tr>\n",
       "      <th>KY</th>\n",
       "      <td>888.0</td>\n",
       "      <td>777.0</td>\n",
       "    </tr>\n",
       "    <tr>\n",
       "      <th>LA</th>\n",
       "      <td>686.0</td>\n",
       "      <td>626.0</td>\n",
       "    </tr>\n",
       "    <tr>\n",
       "      <th>MA</th>\n",
       "      <td>1821.0</td>\n",
       "      <td>1620.0</td>\n",
       "    </tr>\n",
       "    <tr>\n",
       "      <th>MD</th>\n",
       "      <td>1219.0</td>\n",
       "      <td>1129.0</td>\n",
       "    </tr>\n",
       "    <tr>\n",
       "      <th>ME</th>\n",
       "      <td>249.0</td>\n",
       "      <td>214.0</td>\n",
       "    </tr>\n",
       "    <tr>\n",
       "      <th>MI</th>\n",
       "      <td>3018.0</td>\n",
       "      <td>2587.0</td>\n",
       "    </tr>\n",
       "    <tr>\n",
       "      <th>MN</th>\n",
       "      <td>500.0</td>\n",
       "      <td>443.0</td>\n",
       "    </tr>\n",
       "    <tr>\n",
       "      <th>MO</th>\n",
       "      <td>1139.0</td>\n",
       "      <td>1021.0</td>\n",
       "    </tr>\n",
       "  </tbody>\n",
       "</table>\n",
       "</div>"
      ],
      "text/plain": [
       "                                                                                    bene_unique_cnt  \\\n",
       "hcpcs_code hcpcs_description                                  nppes_provider_state                    \n",
       "00100      Anesthesia for procedure on salivary gland with... IL                               19.0   \n",
       "                                                              NY                               13.0   \n",
       "                                                              OH                               13.0   \n",
       "                                                              PA                               12.0   \n",
       "00102      Anesthesia for procedure to repair lip defect p... AL                              129.0   \n",
       "00103      Anesthesia for procedure on eyelid                 AK                               64.0   \n",
       "                                                              AL                             2272.0   \n",
       "                                                              AR                              862.0   \n",
       "                                                              AZ                             2175.0   \n",
       "                                                              CA                             5675.0   \n",
       "                                                              CO                             1030.0   \n",
       "                                                              CT                              627.0   \n",
       "                                                              DC                              102.0   \n",
       "                                                              DE                              573.0   \n",
       "                                                              FL                            10052.0   \n",
       "                                                              GA                             2616.0   \n",
       "                                                              HI                              113.0   \n",
       "                                                              IA                              335.0   \n",
       "                                                              ID                              262.0   \n",
       "                                                              IL                             1411.0   \n",
       "                                                              IN                             1050.0   \n",
       "                                                              KS                             1081.0   \n",
       "                                                              KY                              888.0   \n",
       "                                                              LA                              686.0   \n",
       "                                                              MA                             1821.0   \n",
       "                                                              MD                             1219.0   \n",
       "                                                              ME                              249.0   \n",
       "                                                              MI                             3018.0   \n",
       "                                                              MN                              500.0   \n",
       "                                                              MO                             1139.0   \n",
       "\n",
       "                                                                                    bene_unique_cnt_age_65_above  \n",
       "hcpcs_code hcpcs_description                                  nppes_provider_state                                \n",
       "00100      Anesthesia for procedure on salivary gland with... IL                                             8.0  \n",
       "                                                              NY                                            11.0  \n",
       "                                                              OH                                            10.0  \n",
       "                                                              PA                                            10.0  \n",
       "00102      Anesthesia for procedure to repair lip defect p... AL                                           120.0  \n",
       "00103      Anesthesia for procedure on eyelid                 AK                                            64.0  \n",
       "                                                              AL                                          1995.0  \n",
       "                                                              AR                                           784.0  \n",
       "                                                              AZ                                          2102.0  \n",
       "                                                              CA                                          5238.0  \n",
       "                                                              CO                                           939.0  \n",
       "                                                              CT                                           583.0  \n",
       "                                                              DC                                            94.0  \n",
       "                                                              DE                                           519.0  \n",
       "                                                              FL                                          9283.0  \n",
       "                                                              GA                                          2354.0  \n",
       "                                                              HI                                           106.0  \n",
       "                                                              IA                                           315.0  \n",
       "                                                              ID                                           245.0  \n",
       "                                                              IL                                          1267.0  \n",
       "                                                              IN                                           891.0  \n",
       "                                                              KS                                          1016.0  \n",
       "                                                              KY                                           777.0  \n",
       "                                                              LA                                           626.0  \n",
       "                                                              MA                                          1620.0  \n",
       "                                                              MD                                          1129.0  \n",
       "                                                              ME                                           214.0  \n",
       "                                                              MI                                          2587.0  \n",
       "                                                              MN                                           443.0  \n",
       "                                                              MO                                          1021.0  "
      ]
     },
     "execution_count": 31,
     "metadata": {},
     "output_type": "execute_result"
    }
   ],
   "source": [
    "df_cpt_grouped.head(30)"
   ]
  },
  {
   "cell_type": "code",
   "execution_count": null,
   "metadata": {},
   "outputs": [],
   "source": [
    "df_cpt_grouped.shape"
   ]
  },
  {
   "cell_type": "markdown",
   "metadata": {},
   "source": [
    "### Save files to csv for future use"
   ]
  },
  {
   "cell_type": "code",
   "execution_count": null,
   "metadata": {
    "collapsed": true
   },
   "outputs": [],
   "source": [
    "# save npi level raw data of year 2012 and 2013 in csv format for easy loading\n",
    "df_12_npi.to_csv('Medicare-Physician-and-Other-Supplier-NPI-Aggregate-CY2012.csv', sep = ',', index = False, encoding='utf-8')\n",
    "df_13_npi.to_csv('Medicare-Physician-and-Other-Supplier-NPI-Aggregate-CY2013.csv', sep = ',', index = False, encoding='utf-8')"
   ]
  },
  {
   "cell_type": "code",
   "execution_count": null,
   "metadata": {
    "collapsed": true
   },
   "outputs": [],
   "source": [
    "# save npi level age group raw data in csv format\n",
    "df_npi_age.to_csv('Medicare-Physician-and-Other-Supplier-NPI-Aggregate_Age_Group.csv', sep = ',', index = False, encoding = 'utf-8')"
   ]
  },
  {
   "cell_type": "code",
   "execution_count": null,
   "metadata": {
    "collapsed": true
   },
   "outputs": [],
   "source": [
    "# save cpt level grouped data in csv format\n",
    "df_cpt_grouped.to_csv('cms_data_groupedby_hcpcs_cpt_codes_2015.csv', sep = ',', index = True)"
   ]
  },
  {
   "cell_type": "markdown",
   "metadata": {},
   "source": [
    "### Plot beneficiary counts in cpt level"
   ]
  },
  {
   "cell_type": "code",
   "execution_count": null,
   "metadata": {},
   "outputs": [],
   "source": [
    "df_cpt_grouped.reset_index(drop = False, inplace = True)\n",
    "df_cpt_grouped.head()"
   ]
  },
  {
   "cell_type": "code",
   "execution_count": null,
   "metadata": {},
   "outputs": [],
   "source": [
    "# plot beneficiary for 2 age groups distribution\n",
    "plt.clf()\n",
    "sns.kdeplot(df_cpt_grouped['bene_unique_cnt'], shade=True, legend= True, color = 'r')\n",
    "sns.kdeplot(df_cpt_grouped['bene_unique_cnt_age_65_above'], shade=True, legend= True, color = 'b')\n",
    "plt.show()"
   ]
  },
  {
   "cell_type": "code",
   "execution_count": null,
   "metadata": {
    "collapsed": true
   },
   "outputs": [],
   "source": []
  }
 ],
 "metadata": {
  "kernelspec": {
   "display_name": "Python 2",
   "language": "python",
   "name": "python2"
  },
  "language_info": {
   "codemirror_mode": {
    "name": "ipython",
    "version": 2
   },
   "file_extension": ".py",
   "mimetype": "text/x-python",
   "name": "python",
   "nbconvert_exporter": "python",
   "pygments_lexer": "ipython2",
   "version": "2.7.13"
  }
 },
 "nbformat": 4,
 "nbformat_minor": 2
}
