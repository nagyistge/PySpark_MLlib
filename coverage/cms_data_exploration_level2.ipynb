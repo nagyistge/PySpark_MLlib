{
 "cells": [
  {
   "cell_type": "code",
   "execution_count": 1,
   "metadata": {},
   "outputs": [
    {
     "name": "stderr",
     "output_type": "stream",
     "text": [
      "/Users/michaelli/anaconda2/lib/python2.7/site-packages/sklearn/cross_validation.py:44: DeprecationWarning: This module was deprecated in version 0.18 in favor of the model_selection module into which all the refactored classes and functions are moved. Also note that the interface of the new CV iterators are different from that of this module. This module will be removed in 0.20.\n",
      "  \"This module will be removed in 0.20.\", DeprecationWarning)\n"
     ]
    }
   ],
   "source": [
    "import pandas as pd\n",
    "import numpy as np"
   ]
  },
  {
   "cell_type": "code",
   "execution_count": 2,
   "metadata": {},
   "outputs": [
    {
     "name": "stderr",
     "output_type": "stream",
     "text": [
      "/Users/michaelli/anaconda2/lib/python2.7/site-packages/IPython/core/interactiveshell.py:2717: DtypeWarning: Columns (11) have mixed types. Specify dtype option on import or set low_memory=False.\n",
      "  interactivity=interactivity, compiler=compiler, result=result)\n"
     ]
    },
    {
     "data": {
      "text/html": [
       "<div>\n",
       "<style>\n",
       "    .dataframe thead tr:only-child th {\n",
       "        text-align: right;\n",
       "    }\n",
       "\n",
       "    .dataframe thead th {\n",
       "        text-align: left;\n",
       "    }\n",
       "\n",
       "    .dataframe tbody tr th {\n",
       "        vertical-align: top;\n",
       "    }\n",
       "</style>\n",
       "<table border=\"1\" class=\"dataframe\">\n",
       "  <thead>\n",
       "    <tr style=\"text-align: right;\">\n",
       "      <th></th>\n",
       "      <th>AVG_SUPPLIER_MEDICARE_ALLOW_AMT</th>\n",
       "      <th>AVG_SUPPLIER_MEDICARE_PMT_AMT</th>\n",
       "      <th>AVG_SUPPLIER_MEDICARE_STD_AMT</th>\n",
       "      <th>AVG_SUPPLIER_SUBMITTED_CHARGE</th>\n",
       "      <th>BETOS_CLASSIFICATION</th>\n",
       "      <th>BETOS_CLASSIFICATION_GROUP</th>\n",
       "      <th>HCPCS_CODE</th>\n",
       "      <th>HCPCS_DESCRIPTION</th>\n",
       "      <th>NUMBER_OF_SUPPLIERS</th>\n",
       "      <th>NUMBER_OF_SUPPLIER_BENEFICIARIES</th>\n",
       "      <th>...</th>\n",
       "      <th>REFERRING_PROVIDER_LAST_ORG_NAME</th>\n",
       "      <th>REFERRING_PROVIDER_MI</th>\n",
       "      <th>REFERRING_PROVIDER_STATE</th>\n",
       "      <th>REFERRING_PROVIDER_STREET1</th>\n",
       "      <th>REFERRING_PROVIDER_STREET2</th>\n",
       "      <th>REFERRING_PROVIDER_TYPE</th>\n",
       "      <th>REFERRING_PROVIDER_TYPE_FLAG</th>\n",
       "      <th>REFERRING_PROVIDER_ZIP</th>\n",
       "      <th>SUPPLIER_RENTAL_INDICATOR</th>\n",
       "      <th>YEAR</th>\n",
       "    </tr>\n",
       "  </thead>\n",
       "  <tbody>\n",
       "    <tr>\n",
       "      <th>0</th>\n",
       "      <td>30.324808</td>\n",
       "      <td>23.313077</td>\n",
       "      <td>23.313077</td>\n",
       "      <td>48.854615</td>\n",
       "      <td>D1C - Oxygen and Supplies</td>\n",
       "      <td>Durable Medical Equipment</td>\n",
       "      <td>E0431</td>\n",
       "      <td>Portable gaseous oxygen system, rental; includ...</td>\n",
       "      <td>6</td>\n",
       "      <td>NaN</td>\n",
       "      <td>...</td>\n",
       "      <td>ENKESHAFI</td>\n",
       "      <td>NaN</td>\n",
       "      <td>MD</td>\n",
       "      <td>900 SETON DR</td>\n",
       "      <td>NaN</td>\n",
       "      <td>Internal Medicine</td>\n",
       "      <td>S</td>\n",
       "      <td>215021854</td>\n",
       "      <td>Y</td>\n",
       "      <td>2015</td>\n",
       "    </tr>\n",
       "    <tr>\n",
       "      <th>1</th>\n",
       "      <td>180.920000</td>\n",
       "      <td>137.009767</td>\n",
       "      <td>137.009767</td>\n",
       "      <td>251.009186</td>\n",
       "      <td>D1C - Oxygen and Supplies</td>\n",
       "      <td>Durable Medical Equipment</td>\n",
       "      <td>E1390</td>\n",
       "      <td>Oxygen concentrator, single delivery port, cap...</td>\n",
       "      <td>6</td>\n",
       "      <td>15.0</td>\n",
       "      <td>...</td>\n",
       "      <td>ENKESHAFI</td>\n",
       "      <td>NaN</td>\n",
       "      <td>MD</td>\n",
       "      <td>900 SETON DR</td>\n",
       "      <td>NaN</td>\n",
       "      <td>Internal Medicine</td>\n",
       "      <td>S</td>\n",
       "      <td>215021854</td>\n",
       "      <td>Y</td>\n",
       "      <td>2015</td>\n",
       "    </tr>\n",
       "    <tr>\n",
       "      <th>2</th>\n",
       "      <td>30.420000</td>\n",
       "      <td>23.847143</td>\n",
       "      <td>23.847143</td>\n",
       "      <td>90.714286</td>\n",
       "      <td>D1C - Oxygen and Supplies</td>\n",
       "      <td>Durable Medical Equipment</td>\n",
       "      <td>E0431</td>\n",
       "      <td>Portable gaseous oxygen system, rental; includ...</td>\n",
       "      <td>2</td>\n",
       "      <td>NaN</td>\n",
       "      <td>...</td>\n",
       "      <td>GIRARDI</td>\n",
       "      <td>J</td>\n",
       "      <td>PA</td>\n",
       "      <td>100 HOSPITAL RD</td>\n",
       "      <td>NaN</td>\n",
       "      <td>Family Practice</td>\n",
       "      <td>S</td>\n",
       "      <td>158251367</td>\n",
       "      <td>Y</td>\n",
       "      <td>2015</td>\n",
       "    </tr>\n",
       "    <tr>\n",
       "      <th>3</th>\n",
       "      <td>15.098600</td>\n",
       "      <td>11.209400</td>\n",
       "      <td>11.210000</td>\n",
       "      <td>40.500000</td>\n",
       "      <td>D1E - Other DME</td>\n",
       "      <td>Durable Medical Equipment</td>\n",
       "      <td>E0570</td>\n",
       "      <td>Nebulizer, with compressor</td>\n",
       "      <td>4</td>\n",
       "      <td>NaN</td>\n",
       "      <td>...</td>\n",
       "      <td>GIRARDI</td>\n",
       "      <td>J</td>\n",
       "      <td>PA</td>\n",
       "      <td>100 HOSPITAL RD</td>\n",
       "      <td>NaN</td>\n",
       "      <td>Family Practice</td>\n",
       "      <td>S</td>\n",
       "      <td>158251367</td>\n",
       "      <td>Y</td>\n",
       "      <td>2015</td>\n",
       "    </tr>\n",
       "    <tr>\n",
       "      <th>4</th>\n",
       "      <td>180.920000</td>\n",
       "      <td>141.842857</td>\n",
       "      <td>141.842857</td>\n",
       "      <td>418.942857</td>\n",
       "      <td>D1C - Oxygen and Supplies</td>\n",
       "      <td>Durable Medical Equipment</td>\n",
       "      <td>E1390</td>\n",
       "      <td>Oxygen concentrator, single delivery port, cap...</td>\n",
       "      <td>2</td>\n",
       "      <td>NaN</td>\n",
       "      <td>...</td>\n",
       "      <td>GIRARDI</td>\n",
       "      <td>J</td>\n",
       "      <td>PA</td>\n",
       "      <td>100 HOSPITAL RD</td>\n",
       "      <td>NaN</td>\n",
       "      <td>Family Practice</td>\n",
       "      <td>S</td>\n",
       "      <td>158251367</td>\n",
       "      <td>Y</td>\n",
       "      <td>2015</td>\n",
       "    </tr>\n",
       "  </tbody>\n",
       "</table>\n",
       "<p>5 rows × 29 columns</p>\n",
       "</div>"
      ],
      "text/plain": [
       "   AVG_SUPPLIER_MEDICARE_ALLOW_AMT  AVG_SUPPLIER_MEDICARE_PMT_AMT  \\\n",
       "0                        30.324808                      23.313077   \n",
       "1                       180.920000                     137.009767   \n",
       "2                        30.420000                      23.847143   \n",
       "3                        15.098600                      11.209400   \n",
       "4                       180.920000                     141.842857   \n",
       "\n",
       "   AVG_SUPPLIER_MEDICARE_STD_AMT  AVG_SUPPLIER_SUBMITTED_CHARGE  \\\n",
       "0                      23.313077                      48.854615   \n",
       "1                     137.009767                     251.009186   \n",
       "2                      23.847143                      90.714286   \n",
       "3                      11.210000                      40.500000   \n",
       "4                     141.842857                     418.942857   \n",
       "\n",
       "        BETOS_CLASSIFICATION BETOS_CLASSIFICATION_GROUP HCPCS_CODE  \\\n",
       "0  D1C - Oxygen and Supplies  Durable Medical Equipment      E0431   \n",
       "1  D1C - Oxygen and Supplies  Durable Medical Equipment      E1390   \n",
       "2  D1C - Oxygen and Supplies  Durable Medical Equipment      E0431   \n",
       "3            D1E - Other DME  Durable Medical Equipment      E0570   \n",
       "4  D1C - Oxygen and Supplies  Durable Medical Equipment      E1390   \n",
       "\n",
       "                                   HCPCS_DESCRIPTION  NUMBER_OF_SUPPLIERS  \\\n",
       "0  Portable gaseous oxygen system, rental; includ...                    6   \n",
       "1  Oxygen concentrator, single delivery port, cap...                    6   \n",
       "2  Portable gaseous oxygen system, rental; includ...                    2   \n",
       "3                         Nebulizer, with compressor                    4   \n",
       "4  Oxygen concentrator, single delivery port, cap...                    2   \n",
       "\n",
       "   NUMBER_OF_SUPPLIER_BENEFICIARIES  ...   REFERRING_PROVIDER_LAST_ORG_NAME  \\\n",
       "0                               NaN  ...                          ENKESHAFI   \n",
       "1                              15.0  ...                          ENKESHAFI   \n",
       "2                               NaN  ...                            GIRARDI   \n",
       "3                               NaN  ...                            GIRARDI   \n",
       "4                               NaN  ...                            GIRARDI   \n",
       "\n",
       "   REFERRING_PROVIDER_MI REFERRING_PROVIDER_STATE REFERRING_PROVIDER_STREET1  \\\n",
       "0                    NaN                       MD               900 SETON DR   \n",
       "1                    NaN                       MD               900 SETON DR   \n",
       "2                      J                       PA            100 HOSPITAL RD   \n",
       "3                      J                       PA            100 HOSPITAL RD   \n",
       "4                      J                       PA            100 HOSPITAL RD   \n",
       "\n",
       "   REFERRING_PROVIDER_STREET2 REFERRING_PROVIDER_TYPE  \\\n",
       "0                         NaN       Internal Medicine   \n",
       "1                         NaN       Internal Medicine   \n",
       "2                         NaN         Family Practice   \n",
       "3                         NaN         Family Practice   \n",
       "4                         NaN         Family Practice   \n",
       "\n",
       "  REFERRING_PROVIDER_TYPE_FLAG REFERRING_PROVIDER_ZIP  \\\n",
       "0                            S              215021854   \n",
       "1                            S              215021854   \n",
       "2                            S              158251367   \n",
       "3                            S              158251367   \n",
       "4                            S              158251367   \n",
       "\n",
       "  SUPPLIER_RENTAL_INDICATOR  YEAR  \n",
       "0                         Y  2015  \n",
       "1                         Y  2015  \n",
       "2                         Y  2015  \n",
       "3                         Y  2015  \n",
       "4                         Y  2015  \n",
       "\n",
       "[5 rows x 29 columns]"
      ]
     },
     "execution_count": 2,
     "metadata": {},
     "output_type": "execute_result"
    }
   ],
   "source": [
    "df_15 = pd.read_csv('Medicare_Referring_Provider_DMEPOS_PUF_CY2015.txt', sep = '\\t')\n",
    "df_14 = pd.read_csv('Medicare_Referring_Provider_DMEPOS_PUF_CY2014.txt', sep = '\\t')\n",
    "df_13 = pd.read_csv('Medicare_Referring_Provider_DMEPOS_PUF_CY2013.txt', sep = '\\t')\n",
    "df_15['YEAR'] = '2015'\n",
    "df_14['YEAR'] = '2014'\n",
    "df_13['YEAR'] = '2013'\n",
    "df = df_15.append([df_14, df_13])\n",
    "df.head()"
   ]
  },
  {
   "cell_type": "code",
   "execution_count": 3,
   "metadata": {},
   "outputs": [
    {
     "data": {
      "text/plain": [
       "(5482519, 29)"
      ]
     },
     "execution_count": 3,
     "metadata": {},
     "output_type": "execute_result"
    }
   ],
   "source": [
    "df.shape"
   ]
  },
  {
   "cell_type": "code",
   "execution_count": 4,
   "metadata": {},
   "outputs": [
    {
     "data": {
      "text/plain": [
       "array(['AVG_SUPPLIER_MEDICARE_ALLOW_AMT', 'AVG_SUPPLIER_MEDICARE_PMT_AMT',\n",
       "       'AVG_SUPPLIER_MEDICARE_STD_AMT', 'AVG_SUPPLIER_SUBMITTED_CHARGE',\n",
       "       'BETOS_CLASSIFICATION', 'BETOS_CLASSIFICATION_GROUP', 'HCPCS_CODE',\n",
       "       'HCPCS_DESCRIPTION', 'NUMBER_OF_SUPPLIERS',\n",
       "       'NUMBER_OF_SUPPLIER_BENEFICIARIES', 'NUMBER_OF_SUPPLIER_CLAIMS',\n",
       "       'NUMBER_OF_SUPPLIER_SERVICES', 'REFERRING_CREDENTIALS',\n",
       "       'REFERRING_ENTITY_CODE', 'REFERRING_NPI', 'REFERRING_PROVIDER_CITY',\n",
       "       'REFERRING_PROVIDER_COUNTRY', 'REFERRING_PROVIDER_FIRST_NAME',\n",
       "       'REFERRING_PROVIDER_GENDER', 'REFERRING_PROVIDER_LAST_ORG_NAME',\n",
       "       'REFERRING_PROVIDER_MI', 'REFERRING_PROVIDER_STATE',\n",
       "       'REFERRING_PROVIDER_STREET1', 'REFERRING_PROVIDER_STREET2',\n",
       "       'REFERRING_PROVIDER_TYPE', 'REFERRING_PROVIDER_TYPE_FLAG',\n",
       "       'REFERRING_PROVIDER_ZIP', 'SUPPLIER_RENTAL_INDICATOR', 'YEAR'], dtype=object)"
      ]
     },
     "execution_count": 4,
     "metadata": {},
     "output_type": "execute_result"
    }
   ],
   "source": [
    "df.columns.values"
   ]
  },
  {
   "cell_type": "code",
   "execution_count": 9,
   "metadata": {
    "collapsed": true
   },
   "outputs": [],
   "source": [
    "df_hcpcs_lv2 = df[['HCPCS_CODE', 'HCPCS_DESCRIPTION', 'YEAR', 'NUMBER_OF_SUPPLIER_BENEFICIARIES', 'NUMBER_OF_SUPPLIER_CLAIMS']].groupby(['HCPCS_CODE','HCPCS_DESCRIPTION', 'YEAR'])['NUMBER_OF_SUPPLIER_BENEFICIARIES', 'NUMBER_OF_SUPPLIER_CLAIMS'].apply(np.sum)"
   ]
  },
  {
   "cell_type": "code",
   "execution_count": 10,
   "metadata": {},
   "outputs": [
    {
     "data": {
      "text/html": [
       "<div>\n",
       "<style>\n",
       "    .dataframe thead tr:only-child th {\n",
       "        text-align: right;\n",
       "    }\n",
       "\n",
       "    .dataframe thead th {\n",
       "        text-align: left;\n",
       "    }\n",
       "\n",
       "    .dataframe tbody tr th {\n",
       "        vertical-align: top;\n",
       "    }\n",
       "</style>\n",
       "<table border=\"1\" class=\"dataframe\">\n",
       "  <thead>\n",
       "    <tr style=\"text-align: right;\">\n",
       "      <th></th>\n",
       "      <th></th>\n",
       "      <th></th>\n",
       "      <th>NUMBER_OF_SUPPLIER_BENEFICIARIES</th>\n",
       "      <th>NUMBER_OF_SUPPLIER_CLAIMS</th>\n",
       "    </tr>\n",
       "    <tr>\n",
       "      <th>HCPCS_CODE</th>\n",
       "      <th>HCPCS_DESCRIPTION</th>\n",
       "      <th>YEAR</th>\n",
       "      <th></th>\n",
       "      <th></th>\n",
       "    </tr>\n",
       "  </thead>\n",
       "  <tbody>\n",
       "    <tr>\n",
       "      <th rowspan=\"3\" valign=\"top\">A4216</th>\n",
       "      <th rowspan=\"3\" valign=\"top\">Sterile water, saline and/or dextrose, diluent/flush, 10 ml</th>\n",
       "      <th>2013</th>\n",
       "      <td>248.0</td>\n",
       "      <td>3404.0</td>\n",
       "    </tr>\n",
       "    <tr>\n",
       "      <th>2014</th>\n",
       "      <td>298.0</td>\n",
       "      <td>3627.0</td>\n",
       "    </tr>\n",
       "    <tr>\n",
       "      <th>2015</th>\n",
       "      <td>447.0</td>\n",
       "      <td>4364.0</td>\n",
       "    </tr>\n",
       "    <tr>\n",
       "      <th rowspan=\"2\" valign=\"top\">A4217</th>\n",
       "      <th rowspan=\"2\" valign=\"top\">Sterile water/saline, 500 ml</th>\n",
       "      <th>2013</th>\n",
       "      <td>226.0</td>\n",
       "      <td>6408.0</td>\n",
       "    </tr>\n",
       "    <tr>\n",
       "      <th>2014</th>\n",
       "      <td>247.0</td>\n",
       "      <td>6843.0</td>\n",
       "    </tr>\n",
       "  </tbody>\n",
       "</table>\n",
       "</div>"
      ],
      "text/plain": [
       "                                                                    NUMBER_OF_SUPPLIER_BENEFICIARIES  \\\n",
       "HCPCS_CODE HCPCS_DESCRIPTION                                  YEAR                                     \n",
       "A4216      Sterile water, saline and/or dextrose, diluent/... 2013                             248.0   \n",
       "                                                              2014                             298.0   \n",
       "                                                              2015                             447.0   \n",
       "A4217      Sterile water/saline, 500 ml                       2013                             226.0   \n",
       "                                                              2014                             247.0   \n",
       "\n",
       "                                                                    NUMBER_OF_SUPPLIER_CLAIMS  \n",
       "HCPCS_CODE HCPCS_DESCRIPTION                                  YEAR                             \n",
       "A4216      Sterile water, saline and/or dextrose, diluent/... 2013                     3404.0  \n",
       "                                                              2014                     3627.0  \n",
       "                                                              2015                     4364.0  \n",
       "A4217      Sterile water/saline, 500 ml                       2013                     6408.0  \n",
       "                                                              2014                     6843.0  "
      ]
     },
     "execution_count": 10,
     "metadata": {},
     "output_type": "execute_result"
    }
   ],
   "source": [
    "df_hcpcs_lv2.head()"
   ]
  },
  {
   "cell_type": "code",
   "execution_count": 11,
   "metadata": {},
   "outputs": [
    {
     "data": {
      "text/plain": [
       "(3141, 2)"
      ]
     },
     "execution_count": 11,
     "metadata": {},
     "output_type": "execute_result"
    }
   ],
   "source": [
    "df_hcpcs_lv2.shape"
   ]
  },
  {
   "cell_type": "code",
   "execution_count": 13,
   "metadata": {
    "collapsed": true
   },
   "outputs": [],
   "source": [
    "df_hcpcs_lv2.to_csv('cms_data_groupedby_hcpcs_lv2_2013_to_2015.csv', sep =',', index = True)"
   ]
  },
  {
   "cell_type": "code",
   "execution_count": 23,
   "metadata": {},
   "outputs": [
    {
     "data": {
      "text/plain": [
       "HCPCS_CODE  HCPCS_DESCRIPTION                                                                                                                                                  YEAR\n",
       "A4216       Sterile water, saline and/or dextrose, diluent/flush, 10 ml                                                                                                        2013        248.0\n",
       "A4217       Sterile water/saline, 500 ml                                                                                                                                       2013        226.0\n",
       "A4221       Supplies for maintenance of drug infusion catheter, per week (list drug separately)                                                                                2013      31869.0\n",
       "A4222       Infusion supplies for external drug infusion pump, per cassette or bag (list drugs separately)                                                                     2013      15168.0\n",
       "A4233       Replacement battery, alkaline (other than j cell), for use with medically necessary home blood glucose monitor owned by patient, each                              2013      86036.0\n",
       "A4234       Replacement battery, alkaline, j cell, for use with medically necessary home blood glucose monitor owned by patient, each                                          2013        142.0\n",
       "A4235       Replacement battery, lithium, for use with medically necessary home blood glucose monitor owned by patient, each                                                   2013      42781.0\n",
       "A4236       Replacement battery, silver oxide, for use with medically necessary home blood glucose monitor owned by patient, each                                              2013         17.0\n",
       "A4253       Blood glucose test or reagent strips for home blood glucose monitor, per 50 strips                                                                                 2013    3765149.0\n",
       "A4255       Platforms for home blood glucose monitor, 50 per box                                                                                                               2013          0.0\n",
       "A4256       Normal, low and high calibrator solution / chips                                                                                                                   2013    1096883.0\n",
       "A4258       Spring-powered device for lancet, each                                                                                                                             2013     775386.0\n",
       "A4259       Lancets, per box of 100                                                                                                                                            2013    2459702.0\n",
       "A4265       Paraffin, per pound                                                                                                                                                2013        183.0\n",
       "A4310       Insertion tray without drainage bag and without catheter (accessories only)                                                                                        2013       1001.0\n",
       "A4311       Insertion tray without drainage bag with indwelling catheter, foley type, two-way latex with coating (teflon, silicone, silicone elastomer or hydrophilic, etc. )  2013        288.0\n",
       "A4312       Insertion tray without drainage bag with indwelling catheter, foley type, two-way, all silicone                                                                    2013         13.0\n",
       "A4313       Insertion tray without drainage bag with indwelling catheter, foley type, three-way, for continuous irrigation                                                     2013          0.0\n",
       "A4314       Insertion tray with drainage bag with indwelling catheter, foley type, two-way latex with coating (teflon, silicone, silicone elastomer or hydrophilic, etc. )     2013       1904.0\n",
       "A4315       Insertion tray with drainage bag with indwelling catheter, foley type, two-way, all silicone                                                                       2013         56.0\n",
       "A4316       Insertion tray with drainage bag with indwelling catheter, foley type, three-way, for continuous irrigation                                                        2013         16.0\n",
       "A4320       Irrigation tray with bulb or piston syringe, any purpose                                                                                                           2013        310.0\n",
       "A4322       Irrigation syringe, bulb or piston, each                                                                                                                           2013        249.0\n",
       "A4326       Male external catheter with integral collection chamber,  any type, each                                                                                           2013          0.0\n",
       "A4331       Extension drainage tubing, any type, any length, with connector/adaptor, for use with urinary leg bag or urostomy pouch, each                                      2013        100.0\n",
       "A4332       Lubricant, individual sterile packet, each                                                                                                                         2013       7852.0\n",
       "A4333       Urinary catheter anchoring device, adhesive skin attachment, each                                                                                                  2013        155.0\n",
       "A4334       Urinary catheter anchoring device, leg strap, each                                                                                                                 2013       1035.0\n",
       "A4336       Incontinence supply, urethral insert, any type, each                                                                                                               2013          0.0\n",
       "A4338       Indwelling catheter; foley type, two-way latex with coating (teflon, silicone, silicone elastomer, or hydrophilic, etc. ), each                                    2013       4774.0\n",
       "                                                                                                                                                                                         ...    \n",
       "V2625       Enlargement of ocular prosthesis                                                                                                                                   2013        203.0\n",
       "V2626       Reduction of ocular prosthesis                                                                                                                                     2013        166.0\n",
       "V2627       Scleral cover shell                                                                                                                                                2013        417.0\n",
       "V2628       Fabrication and fitting of ocular conformer                                                                                                                        2013        152.0\n",
       "V2700       Balance lens, per lens                                                                                                                                             2013        776.0\n",
       "V2710       Slab off prism, glass or plastic, per lens                                                                                                                         2013        172.0\n",
       "V2715       Prism, per lens                                                                                                                                                    2013        202.0\n",
       "V2730       Special base curve, glass or plastic, per lens                                                                                                                     2013        178.0\n",
       "V2744       Tint, photochromatic, per lens                                                                                                                                     2013       1574.0\n",
       "V2745       Addition to lens; tint, any color, solid, gradient or equal, excludes photochromatic, any lens material, per lens                                                  2013       2691.0\n",
       "V2750       Anti-reflective coating, per lens                                                                                                                                  2013       3220.0\n",
       "V2755       U-v lens, per lens                                                                                                                                                 2013      48400.0\n",
       "V2780       Oversize lens, per lens                                                                                                                                            2013          0.0\n",
       "V2782       Lens, index 1. 54 to 1. 65 plastic or 1. 60 to 1. 79 glass, excludes polycarbonate, per lens                                                                       2013        988.0\n",
       "V2783       Lens, index greater than or equal to 1. 66 plastic or greater than or equal to 1. 80 glass, excludes polycarbonate, per lens                                       2013         29.0\n",
       "V2784       Lens, polycarbonate or equal, any index, per lens                                                                                                                  2013       1526.0\n",
       "V2799       Vision service, miscellaneous                                                                                                                                      2013         11.0\n",
       "WW002       Temozolomide, 5 mg                                                                                                                                                 2013         88.0\n",
       "WW003       Temozolomide, 250 mg                                                                                                                                               2013         12.0\n",
       "WW005       Temozolomide, 100 mg                                                                                                                                               2013        229.0\n",
       "WW006       Temozolomide, 20 mg                                                                                                                                                2013        479.0\n",
       "WW010       Cyclophosphamide, 25 mg                                                                                                                                            2013          0.0\n",
       "WW011       Cyclophosphamide, 50 mg                                                                                                                                            2013         63.0\n",
       "WW020       Busulfan, 2 mg                                                                                                                                                     2013          0.0\n",
       "WW030       Etoposide, 50 mg                                                                                                                                                   2013          0.0\n",
       "WW040       Methotrexate, 2.5 mg                                                                                                                                               2013          0.0\n",
       "WW080       Melphalan, 2 mg                                                                                                                                                    2013          0.0\n",
       "WW090       Capecitabine, 150 mg                                                                                                                                               2013         87.0\n",
       "WW093       Capecitabine, 500 mg                                                                                                                                               2013       5698.0\n",
       "WW140       Topotecan, Oral, 0.25mg                                                                                                                                            2013          0.0\n",
       "Name: NUMBER_OF_SUPPLIER_BENEFICIARIES, Length: 1040, dtype: float64"
      ]
     },
     "execution_count": 23,
     "metadata": {},
     "output_type": "execute_result"
    }
   ],
   "source": [
    "df_hcpcs_lv2[df_hcpcs_lv2.index.get_level_values('YEAR') == '2013']['NUMBER_OF_SUPPLIER_BENEFICIARIES']"
   ]
  },
  {
   "cell_type": "code",
   "execution_count": 14,
   "metadata": {
    "collapsed": true
   },
   "outputs": [],
   "source": [
    "import seaborn as sns\n",
    "import matplotlib.pyplot as plt"
   ]
  },
  {
   "cell_type": "code",
   "execution_count": 30,
   "metadata": {},
   "outputs": [
    {
     "data": {
      "text/plain": [
       "<matplotlib.figure.Figure at 0x1247dee90>"
      ]
     },
     "metadata": {},
     "output_type": "display_data"
    },
    {
     "data": {
      "text/plain": [
       "<matplotlib.figure.Figure at 0x124984c10>"
      ]
     },
     "metadata": {},
     "output_type": "display_data"
    },
    {
     "data": {
      "text/plain": [
       "<matplotlib.figure.Figure at 0x124debdd0>"
      ]
     },
     "metadata": {},
     "output_type": "display_data"
    },
    {
     "data": {
      "text/plain": [
       "<matplotlib.figure.Figure at 0x12508bd50>"
      ]
     },
     "metadata": {},
     "output_type": "display_data"
    },
    {
     "data": {
      "text/plain": [
       "<matplotlib.figure.Figure at 0x12518bb10>"
      ]
     },
     "metadata": {},
     "output_type": "display_data"
    },
    {
     "data": {
      "image/png": "[encoded data removed]",
      "text/plain": [
       "<matplotlib.figure.Figure at 0x1253d4a90>"
      ]
     },
     "metadata": {},
     "output_type": "display_data"
    }
   ],
   "source": [
    "plt.clf()\n",
    "# Set up the matplotlib figure\n",
    "sns.despine(left=True)\n",
    "\n",
    "f, axes = plt.subplots(3, 1, figsize=(7, 7), sharex=True)\n",
    "sns.despine(left=True)\n",
    "\n",
    "col1_2013 = df_hcpcs_lv2[df_hcpcs_lv2.index.get_level_values('YEAR') == '2013']['NUMBER_OF_SUPPLIER_BENEFICIARIES']\n",
    "col1_2014 = df_hcpcs_lv2[df_hcpcs_lv2.index.get_level_values('YEAR') == '2014']['NUMBER_OF_SUPPLIER_BENEFICIARIES']\n",
    "col1_2015 = df_hcpcs_lv2[df_hcpcs_lv2.index.get_level_values('YEAR') == '2015']['NUMBER_OF_SUPPLIER_BENEFICIARIES']\n",
    "\n",
    "sns.distplot(col1_2013, hist=False, color=\"g\", kde_kws={\"shade\": True, 'label' : '2013'}, ax = axes[0])\n",
    "\n",
    "sns.distplot(col1_2014, hist=False, color=\"b\", kde_kws={\"shade\": True, 'label' : '2014'}, ax = axes[1])\n",
    "\n",
    "sns.distplot(col1_2015, hist=False, color=\"r\", kde_kws={\"shade\": True, 'label' : '2015'}, ax = axes[2])\n",
    "plt.show()"
   ]
  },
  {
   "cell_type": "code",
   "execution_count": 31,
   "metadata": {},
   "outputs": [
    {
     "data": {
      "text/plain": [
       "<matplotlib.figure.Figure at 0x125411710>"
      ]
     },
     "metadata": {},
     "output_type": "display_data"
    },
    {
     "data": {
      "image/png": "[encoded data removed]",
      "text/plain": [
       "<matplotlib.figure.Figure at 0x125935a90>"
      ]
     },
     "metadata": {},
     "output_type": "display_data"
    }
   ],
   "source": [
    "plt.clf()\n",
    "# Set up the matplotlib figure\n",
    "sns.despine(left=True)\n",
    "\n",
    "f, axes = plt.subplots(3, 1, figsize=(7, 7), sharex=True)\n",
    "sns.despine(left=True)\n",
    "\n",
    "col2_2013 = df_hcpcs_lv2[df_hcpcs_lv2.index.get_level_values('YEAR') == '2013']['NUMBER_OF_SUPPLIER_CLAIMS']\n",
    "col2_2014 = df_hcpcs_lv2[df_hcpcs_lv2.index.get_level_values('YEAR') == '2014']['NUMBER_OF_SUPPLIER_CLAIMS']\n",
    "col2_2015 = df_hcpcs_lv2[df_hcpcs_lv2.index.get_level_values('YEAR') == '2015']['NUMBER_OF_SUPPLIER_CLAIMS']\n",
    "\n",
    "sns.distplot(col2_2013, hist=False, color=\"g\", kde_kws={\"shade\": True, 'label' : '2013'}, ax = axes[0])\n",
    "\n",
    "sns.distplot(col2_2014, hist=False, color=\"b\", kde_kws={\"shade\": True, 'label' : '2014'}, ax = axes[1])\n",
    "\n",
    "sns.distplot(col2_2015, hist=False, color=\"r\", kde_kws={\"shade\": True, 'label' : '2015'}, ax = axes[2])\n",
    "plt.show()"
   ]
  },
  {
   "cell_type": "code",
   "execution_count": null,
   "metadata": {
    "collapsed": true
   },
   "outputs": [],
   "source": []
  }
 ],
 "metadata": {
  "kernelspec": {
   "display_name": "Python 2",
   "language": "python",
   "name": "python2"
  },
  "language_info": {
   "codemirror_mode": {
    "name": "ipython",
    "version": 2
   },
   "file_extension": ".py",
   "mimetype": "text/x-python",
   "name": "python",
   "nbconvert_exporter": "python",
   "pygments_lexer": "ipython2",
   "version": "2.7.13"
  }
 },
 "nbformat": 4,
 "nbformat_minor": 2
}
